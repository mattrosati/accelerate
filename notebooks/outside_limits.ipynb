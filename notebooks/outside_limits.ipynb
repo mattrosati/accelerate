{
 "cells": [
  {
   "cell_type": "markdown",
   "id": "f1571a50",
   "metadata": {},
   "source": [
    "## Limits of Autoregulation - Summary Statistics\n",
    "\n",
    "In this notebook we look at the characteristics of the physiologic data when patients move from inside to outside the limits of autoregulation."
   ]
  },
  {
   "cell_type": "markdown",
   "id": "b42fd7eb",
   "metadata": {},
   "source": [
    "#### Useful Imports"
   ]
  },
  {
   "cell_type": "code",
   "execution_count": null,
   "id": "4ffe5941",
   "metadata": {},
   "outputs": [],
   "source": [
    "import os\n",
    "import sys\n",
    "sys.path.append(\"..\")  # add project root\n",
    "\n",
    "import h5py\n",
    "\n",
    "import numpy as np\n",
    "import matplotlib.pyplot as plt\n",
    "import pandas as pd\n",
    "import seaborn as sns\n",
    "\n",
    "from tqdm import tqdm\n",
    "\n",
    "from src.data_utils import *\n",
    "from src.constants import *\n",
    "\n",
    "# pending useful sklearn imports"
   ]
  },
  {
   "cell_type": "code",
   "execution_count": null,
   "id": "ca1de434",
   "metadata": {},
   "outputs": [],
   "source": [
    "pd.options.display.float_format = '{:10,.2f}'.format"
   ]
  },
  {
   "cell_type": "code",
   "execution_count": null,
   "id": "241d281f",
   "metadata": {},
   "outputs": [],
   "source": [
    "np.random.seed(420)"
   ]
  },
  {
   "cell_type": "code",
   "execution_count": null,
   "id": "b6292b01",
   "metadata": {},
   "outputs": [],
   "source": [
    "sns.set_theme(context=\"talk\")"
   ]
  },
  {
   "cell_type": "code",
   "execution_count": null,
   "id": "708d2029",
   "metadata": {},
   "outputs": [],
   "source": [
    "# path constants\n",
    "data_dir = \"/home/mr2238/project_pi_np442/mr2238/accelerate/data\"\n",
    "img_dir = \"/home/mr2238/project_pi_np442/mr2238/accelerate/imgs/overview\"\n",
    "global_path = os.path.join(data_dir, \"all_data.hdf5\")\n",
    "labels_path = os.path.join(data_dir, \"labels\")\n",
    "raw_data_path = os.path.join(data_dir, \"raw_data\")"
   ]
  },
  {
   "cell_type": "code",
   "execution_count": null,
   "id": "9e0e25f1",
   "metadata": {},
   "outputs": [],
   "source": [
    "# list files\n",
    "h5py_files = [f for f in os.listdir(raw_data_path) if f.endswith(\".icmh5\")]\n",
    "print(f\"Number of h5py files: {len(h5py_files)}\")\n",
    "print(f\"Example file: {h5py_files[0]}\")"
   ]
  },
  {
   "cell_type": "markdown",
   "id": "ecf98a97",
   "metadata": {},
   "source": [
    "### Define Limits"
   ]
  },
  {
   "cell_type": "markdown",
   "id": "8ed7f55a",
   "metadata": {},
   "source": [
    "Here we explore how much a given patient is within their autoregulatory limits, to get a sense of how to distribute this.\n",
    "1) How is this defined?\n",
    "    - Option 1: Outside means pt is outside limits at time t if in the 60 seconds *prior* >50% of abp values are outside limits.\n",
    "    - Option 2: Outside means pt is outside limits at time t if in the 60 seconds *after* >50% of abp values are outside limits.\n",
    "    - Option 3: Outside means pt is outside limits at time t if in the *30 seconds prior and 30 seconds after* >50% of abp values are outside limits.\n",
    "2) What do we want?\n",
    "    - Time outside of limits\n",
    "    - % of time outside of limits\n",
    "    - Average and median duration of segment of time outside of limits"
   ]
  },
  {
   "cell_type": "markdown",
   "id": "9ff29d7d",
   "metadata": {},
   "source": [
    "### Count Time In and Out"
   ]
  },
  {
   "cell_type": "code",
   "execution_count": null,
   "id": "91bcf469",
   "metadata": {},
   "outputs": [],
   "source": [
    "percent_time = []\n",
    "ins = []\n",
    "mode = 'within'\n",
    "with h5py.File(global_path, \"r\") as f:\n",
    "    for pt in f:\n",
    "        print(pt)\n",
    "        [f\"processed/in_out_{mode}/in_out\"]\n",
    "        in_out = f[f\"{pt}/processed/in_out_{mode}/in_out\"][...].sum() / len(f[f\"{pt}/processed/in_out_{mode}/in_out\"][...])\n",
    "        in1 = f[f\"{pt}/processed/in_out_{mode}/in_out\"][...]\n",
    "\n",
    "        percent_time.append(in_out)\n",
    "        ins.append(in1)\n"
   ]
  },
  {
   "cell_type": "code",
   "execution_count": null,
   "id": "1c76f438",
   "metadata": {},
   "outputs": [],
   "source": []
  }
 ],
 "metadata": {
  "kernelspec": {
   "display_name": "Python 3",
   "language": "python",
   "name": "python3"
  },
  "language_info": {
   "codemirror_mode": {
    "name": "ipython",
    "version": 3
   },
   "file_extension": ".py",
   "mimetype": "text/x-python",
   "name": "python",
   "nbconvert_exporter": "python",
   "pygments_lexer": "ipython3",
   "version": "3.10.18"
  }
 },
 "nbformat": 4,
 "nbformat_minor": 5
}
