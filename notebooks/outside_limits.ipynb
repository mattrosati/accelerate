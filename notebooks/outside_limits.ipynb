{
 "cells": [
  {
   "cell_type": "markdown",
   "id": "f1571a50",
   "metadata": {},
   "source": [
    "## Limits of Autoregulation - Summary Statistics\n",
    "\n",
    "In this notebook we look at the characteristics of the physiologic data when patients move from inside to outside the limits of autoregulation."
   ]
  },
  {
   "cell_type": "markdown",
   "id": "b42fd7eb",
   "metadata": {},
   "source": [
    "#### Useful Imports and Preliminaries"
   ]
  },
  {
   "cell_type": "code",
   "execution_count": null,
   "id": "4ffe5941",
   "metadata": {},
   "outputs": [],
   "source": [
    "import os\n",
    "import sys\n",
    "sys.path.append(\"..\")  # add project root\n",
    "\n",
    "import h5py\n",
    "\n",
    "import numpy as np\n",
    "import matplotlib.pyplot as plt\n",
    "import pandas as pd\n",
    "import seaborn as sns\n",
    "\n",
    "from tqdm import tqdm\n",
    "\n",
    "from src.data_utils import *\n",
    "from src.constants import *\n",
    "\n",
    "# pending useful sklearn imports\n",
    "from scipy.stats import pearsonr"
   ]
  },
  {
   "cell_type": "code",
   "execution_count": null,
   "id": "ca1de434",
   "metadata": {},
   "outputs": [],
   "source": [
    "pd.options.display.float_format = '{:10,.2f}'.format"
   ]
  },
  {
   "cell_type": "code",
   "execution_count": null,
   "id": "7bf60b24",
   "metadata": {},
   "outputs": [],
   "source": [
    "plt.rcParams.update({\n",
    "    'xtick.bottom': True,\n",
    "    'ytick.left': True\n",
    "})"
   ]
  },
  {
   "cell_type": "code",
   "execution_count": null,
   "id": "241d281f",
   "metadata": {},
   "outputs": [],
   "source": [
    "np.random.seed(420)"
   ]
  },
  {
   "cell_type": "code",
   "execution_count": null,
   "id": "b6292b01",
   "metadata": {},
   "outputs": [],
   "source": [
    "sns.set_theme(context=\"talk\")"
   ]
  },
  {
   "cell_type": "code",
   "execution_count": null,
   "id": "708d2029",
   "metadata": {},
   "outputs": [],
   "source": [
    "# path constants\n",
    "data_dir = \"/home/mr2238/project_pi_np442/mr2238/accelerate/data\"\n",
    "img_dir = \"/home/mr2238/project_pi_np442/mr2238/accelerate/imgs/in_out\"\n",
    "global_path = \"/home/mr2238/project_pi_np442/mr2238/accelerate/data/processed/all_data.hdf5\"\n",
    "labels_path = os.path.join(data_dir, \"labels\")\n",
    "raw_data_path = os.path.join(data_dir, \"raw_data\")"
   ]
  },
  {
   "cell_type": "code",
   "execution_count": null,
   "id": "99d82a98",
   "metadata": {},
   "outputs": [],
   "source": [
    "# check img directory exists, if not make it\n",
    "os.makedirs(img_dir, exist_ok=True)"
   ]
  },
  {
   "cell_type": "code",
   "execution_count": null,
   "id": "9e0e25f1",
   "metadata": {},
   "outputs": [],
   "source": [
    "# list files\n",
    "h5py_files = [f for f in os.listdir(raw_data_path) if f.endswith(\".icmh5\")]\n",
    "print(f\"Number of h5py files: {len(h5py_files)}\")\n",
    "print(f\"Example file: {h5py_files[0]}\")"
   ]
  },
  {
   "cell_type": "markdown",
   "id": "cf5ae6de",
   "metadata": {},
   "source": [
    "### In and Out Statistics"
   ]
  },
  {
   "cell_type": "markdown",
   "id": "ecf98a97",
   "metadata": {},
   "source": [
    "#### Define Limits"
   ]
  },
  {
   "cell_type": "markdown",
   "id": "8ed7f55a",
   "metadata": {},
   "source": [
    "Here we explore how much a given patient is within their autoregulatory limits, to get a sense of how to distribute this.\n",
    "1) Definition: Patient is outside limits of autoregulation if at a given time *t*, the mean ABP value over the minute prior to time *t* is outside the limits calculated at *t*.\n",
    "2) What do we want?\n",
    "    - Distribution of % time outside limits: Done\n",
    "    - Duration of time outside limits: per patient, distribution, median, average\n",
    "    - Number of times outside limits per patient\n",
    "    - Correlation between time elapsed and likelihood of being outside of limits: t vs. at time t, what fraction of patients are outside limits?\n",
    "    - time spent outside autoregulation vs time to autoregulation calc"
   ]
  },
  {
   "cell_type": "markdown",
   "id": "9ff29d7d",
   "metadata": {},
   "source": [
    "#### Percent Time In and Out"
   ]
  },
  {
   "cell_type": "code",
   "execution_count": null,
   "id": "91bcf469",
   "metadata": {},
   "outputs": [],
   "source": [
    "true_false = {}\n",
    "ins = []\n",
    "mode = 'mean'\n",
    "with h5py.File(global_path, \"r\") as f:\n",
    "    for pt in f:\n",
    "        if f[f\"{pt}/processed/in_out_{mode}\"].attrs[\"no_label_overlap\"]:\n",
    "            continue\n",
    "        in_out_df = pd.Series(f[f\"{pt}/processed/in_out_{mode}/in_out\"][...]).astype(bool)\n",
    "        idx_window = pd.DataFrame(f[f\"{pt}/processed/in_out_{mode}/window_idx\"][...])\n",
    "\n",
    "        # to actually get percentage of time spent outside autoregulation, we need to get actual window length, we can't weigh all the windows equally\n",
    "        len_window = idx_window.iloc[:, 1] - idx_window.iloc[:, 0]\n",
    "        in_out = (in_out_df * len_window).sum() / len_window.sum()\n",
    "        if len_window.sum() == 0:\n",
    "            print(pt)\n",
    "            print(idx_window)\n",
    "            print(in_out_df)\n",
    "\n",
    "        true_false[pt] = [in_out]\n",
    "        ins.append(in_out_df)\n"
   ]
  },
  {
   "cell_type": "code",
   "execution_count": null,
   "id": "f4db2f56",
   "metadata": {},
   "outputs": [],
   "source": [
    "true_false_df = pd.DataFrame(true_false).transpose()\n",
    "bool_in_out_df = pd.concat(ins)\n",
    "bool_in_out_df.describe()\n",
    "true_false_df = true_false_df.rename(columns={true_false_df.columns[0]: 'in_percent'})"
   ]
  },
  {
   "cell_type": "code",
   "execution_count": null,
   "id": "c3908f92",
   "metadata": {},
   "outputs": [],
   "source": [
    "# calculate percent time in/out per patient, need to switch because in_out is True if in\n",
    "percent_time = 1- np.array(true_false_df).squeeze()\n",
    "print(percent_time.shape)"
   ]
  },
  {
   "cell_type": "code",
   "execution_count": null,
   "id": "89089979",
   "metadata": {},
   "outputs": [],
   "source": [
    "# plot distribtion\n",
    "fig, ax = plt.subplots(figsize=(12,6))\n",
    "fig.tight_layout(pad=2)\n",
    "sns.histplot(percent_time * 100, ax=ax, stat=\"probability\", edgecolor=(0, 0, 0, 0.5), alpha=0.5)\n",
    "# sns.kdeplot(\n",
    "#     percent_time / percent_time.sum(),\n",
    "#     ax=ax,\n",
    "#     bw_adjust=1,\n",
    "#     linewidth=2,\n",
    "#     cut=0,\n",
    "# )\n",
    "ax.set_title(f\"Percentage of time spent outside autoregulatory limits ({len(percent_time)} files, 189 patients)\")\n",
    "ax.set_xlabel('Percentage of Time Outside Limits')\n",
    "ax.set_ylabel(\"Fraction of Patients\")\n",
    "ax.set_ylim(0, 0.25)\n",
    "ax.set_xticks(np.arange(0, 1, 0.1), minor=True)\n",
    "\n",
    "mean_value = pd.Series(percent_time).mean()\n",
    "ax.axvline(x=mean_value * 100, color='red', linestyle='--', label=f'Mean: {mean_value * 100:.0f}%')\n",
    "ax.legend()\n",
    "\n",
    "med_value = pd.Series(percent_time).median()\n",
    "ax.axvline(x=med_value * 100, color='green', linestyle='--', label=f'Median: {med_value * 100:.0f}%')\n",
    "ax.legend()\n",
    "\n",
    "img_name = f\"in_out_percent_distribution.png\"\n",
    "plt.savefig(os.path.join(img_dir, img_name), bbox_inches='tight')\n",
    "plt.show()"
   ]
  },
  {
   "cell_type": "markdown",
   "id": "fb125de3",
   "metadata": {},
   "source": [
    "Now, we can correlate this with the time required to calculate MAP opt."
   ]
  },
  {
   "cell_type": "code",
   "execution_count": null,
   "id": "be6380aa",
   "metadata": {},
   "outputs": [],
   "source": [
    "# load df, find seconds elapsed to calculate opt MAP\n",
    "with h5py.File(global_path, \"r\") as f:\n",
    "    rows = []\n",
    "    calc = TARGETS\n",
    "    for pt in f:\n",
    "        if f[f\"{pt}/processed/in_out_{mode}\"].attrs[\"no_label_overlap\"]:\n",
    "            continue\n",
    "        else:\n",
    "            time_to_mapopt = find_time_elapsed(str(pt), calc, labels_path, time=\"s\", start_time=int(f[f\"{pt}/raw/\"].attrs[\"dataStartTimeUnix\"][0]))\n",
    "            rows.append([time_to_mapopt, str(pt)])\n",
    "    elapsed_times = pd.DataFrame(rows, columns=['time', 'ptid'])\n",
    "    elapsed_times_idx = elapsed_times.set_index('ptid').dropna()\n",
    "    elapsed_times_idx = elapsed_times_idx[elapsed_times_idx > 0]"
   ]
  },
  {
   "cell_type": "code",
   "execution_count": null,
   "id": "f2f3aaf6",
   "metadata": {},
   "outputs": [],
   "source": [
    "# merge dfs\n",
    "timevpercent = pd.merge(1 - true_false_df, elapsed_times_idx, left_index=True, right_index=True, how='inner')\n",
    "timevpercent = timevpercent.rename(columns={'in_percent' : 'out_percent'})\n",
    "timevpercent = timevpercent[timevpercent['time'] > 0]\n",
    "timevpercent\n"
   ]
  },
  {
   "cell_type": "code",
   "execution_count": null,
   "id": "ac6fc9db",
   "metadata": {},
   "outputs": [],
   "source": [
    "x, y = timevpercent[\"out_percent\"], np.log(timevpercent[\"time\"])\n",
    "r, p = pearsonr(x, y)"
   ]
  },
  {
   "cell_type": "code",
   "execution_count": null,
   "id": "93a45f85",
   "metadata": {},
   "outputs": [],
   "source": [
    "# plot correlation\n",
    "fig, ax = plt.subplots(figsize=(12,6))\n",
    "fig.tight_layout(pad=0)\n",
    "sns.regplot(x = x*100, y = np.log(timevpercent[\"time\"]), scatter_kws={'alpha':0.6})\n",
    "ax.set_title(f\"Percentage of Time Outside Autoregulation vs. Time to First MAPopt calculation\\n({timevpercent.shape[0]} files, 189 patients)\")\n",
    "ax.set_xlabel('Percentage of Time Outside Limits')\n",
    "ax.set_ylabel(\"Log Time to MAPopt calculation \\n(log s)\")\n",
    "# ax.set_ylim(7.5, 11)\n",
    "# ax.set_xticks(np.arange(0, 1, 0.1), minor=True)\n",
    "\n",
    "# mean_value = pd.Series(percent_time).mean()\n",
    "# ax.axvline(x=mean_value * 100, color='red', linestyle='--', label=f'Mean: {mean_value * 100:.0f}%')\n",
    "# ax.legend()\n",
    "\n",
    "# med_value = pd.Series(percent_time).median()\n",
    "# ax.axvline(x=med_value * 100, color='green', linestyle='--', label=f'Median: {med_value * 100:.0f}%')\n",
    "# ax.legend()\n",
    "plt.text(0.05, 0.95, f\"r = {r:.2f}\", transform=plt.gca().transAxes, fontsize=12)\n",
    "\n",
    "# img_name = f\"in_out_percent_distribution.png\"\n",
    "# plt.savefig(os.path.join(img_dir, img_name), bbox_inches='tight')\n",
    "plt.show()"
   ]
  },
  {
   "cell_type": "markdown",
   "id": "fba8003d",
   "metadata": {},
   "source": [
    "Notice there is no correlation. Most likely due to the fact that time to MAPopt calc depends on a time period for which there are no autoregulatory limits."
   ]
  },
  {
   "cell_type": "markdown",
   "id": "eba09fa4",
   "metadata": {},
   "source": [
    "We can also see how the likelihood of being outside the limits is correlated with time elapsed from start of recording."
   ]
  },
  {
   "cell_type": "code",
   "execution_count": null,
   "id": "23cc5004",
   "metadata": {},
   "outputs": [],
   "source": [
    "# get in_out for each patient, add n/a if time index is not represented\n",
    "# concat and plot\n",
    "frames = []\n",
    "with h5py.File(global_path, \"r\") as f:\n",
    "    for pt in tqdm(f.keys()):\n",
    "        processed_data_path = f\"{pt}/processed/in_out_{mode}/\"\n",
    "        if f[processed_data_path].attrs[\"no_label_overlap\"]:\n",
    "            continue\n",
    "        label_datetimes = pd.to_datetime(f[processed_data_path + \"label_timestamp\"][...], unit=\"us\", origin=\"unix\")\n",
    "        zero_idx = label_datetimes - pd.to_datetime((f[f\"{pt}/raw\"].attrs[\"dataStartTimeUnix\"]).astype(np.int64) * 1e6, unit=\"us\", origin=\"unix\")[0]\n",
    "        in_out_df = f[f\"{pt}/processed/in_out_{mode}/in_out\"][...]\n",
    "\n",
    "        df = pd.DataFrame({\n",
    "            \"timestamp\": zero_idx,\n",
    "            f\"in_out_{pt}\": 1 - in_out_df\n",
    "        })\n",
    "        frames.append(df)\n",
    "\n",
    "continuous_time_grid = pd.concat(frames, axis=0)\n",
    "print(continuous_time_grid.shape)\n",
    "grid_groups = continuous_time_grid.groupby(\"timestamp\", as_index=False)\n",
    "count_per_timestamp = grid_groups.first()\n",
    "        "
   ]
  },
  {
   "cell_type": "code",
   "execution_count": null,
   "id": "910775c2",
   "metadata": {},
   "outputs": [],
   "source": [
    "count_per_timestamp['timestamp']"
   ]
  },
  {
   "cell_type": "code",
   "execution_count": null,
   "id": "0144d65d",
   "metadata": {},
   "outputs": [],
   "source": [
    "# will do min because that looks better\n",
    "agg_counts = pd.DataFrame(count_per_timestamp['timestamp'])\n",
    "agg_counts['sum'] = count_per_timestamp.drop('timestamp', axis = 1).sum(axis=1)\n",
    "hourly_df = agg_counts.resample('min', on='timestamp').sum()"
   ]
  },
  {
   "cell_type": "code",
   "execution_count": null,
   "id": "9947c3b5",
   "metadata": {},
   "outputs": [],
   "source": [
    "hourly_df"
   ]
  },
  {
   "cell_type": "code",
   "execution_count": null,
   "id": "557215c3",
   "metadata": {},
   "outputs": [],
   "source": [
    "# plot \n",
    "fig, ax = plt.subplots(figsize=(12,6))\n",
    "fig.tight_layout(pad=0)\n",
    "sns.lineplot(x = hourly_df.index/(1e9*60*60), y = hourly_df['sum']/(count_per_timestamp.shape[1] - 1) * 100)\n",
    "ax.set_title(f\"Probability of Outside Autoregulation by Time\\n({count_per_timestamp.shape[1] - 1} files, 189 patients)\")\n",
    "ax.set_xlabel('Time from Recording Start (hours)')\n",
    "ax.set_ylabel(\"Probability Outside of AR Limits (%)\")\n",
    "\n",
    "ax.set_xlim(-5, 100)\n",
    "ax.set_xticks(np.arange(0, 100, 5), minor=True)\n",
    "\n",
    "img_name = f\"in_out_prob_by_time.png\"\n",
    "plt.savefig(os.path.join(img_dir, img_name), bbox_inches='tight')\n",
    "plt.show()"
   ]
  },
  {
   "cell_type": "markdown",
   "id": "cdbc563e",
   "metadata": {},
   "source": [
    "#### Amount of time spent outside of limits\n",
    "\n",
    "We can do this in one minute intervals, basically develop a function that makes a list of segments of interrupted outside status with their lengths."
   ]
  },
  {
   "cell_type": "code",
   "execution_count": null,
   "id": "57313897",
   "metadata": {},
   "outputs": [],
   "source": [
    "minutes_out_per_pt = count_per_timestamp.iloc[:, 1:].sum(axis=0)"
   ]
  },
  {
   "cell_type": "code",
   "execution_count": null,
   "id": "c1e68ec9",
   "metadata": {},
   "outputs": [],
   "source": [
    "minutes_out_per_pt.describe()"
   ]
  },
  {
   "cell_type": "code",
   "execution_count": null,
   "id": "db5d15d7",
   "metadata": {},
   "outputs": [],
   "source": [
    "# plot distribution of minutes out\n",
    "fig, ax = plt.subplots(figsize=(12,6))\n",
    "fig.tight_layout(pad=2)\n",
    "sns.histplot(minutes_out_per_pt, ax=ax, stat=\"probability\", edgecolor=(0, 0, 0, 0.5), alpha=0.5,)\n",
    "ax.set_title(f\"Total Time outside Autoregulation ({len(percent_time)} files, 189 patients)\")\n",
    "ax.set_xlabel('Time (min)')\n",
    "ax.set_ylabel(\"Fraction of Patients\")\n",
    "ax.set_ylim(0, 0.25)\n",
    "ax.set_xticks(np.arange(0, 1, 0.1), minor=True)\n",
    "\n",
    "mean_value = minutes_out_per_pt.mean()\n",
    "ax.axvline(x=mean_value, color='red', linestyle='--', label=f'Mean: {mean_value/60:.1f} hrs')\n",
    "ax.legend()\n",
    "\n",
    "med_value = minutes_out_per_pt.median()\n",
    "ax.axvline(x=med_value, color='green', linestyle='--', label=f'Median: {med_value/60:.1f} hrs')\n",
    "ax.legend()\n",
    "\n",
    "img_name = f\"in_out_percent_distribution.png\"\n",
    "# plt.savefig(os.path.join(img_dir, img_name), bbox_inches='tight')\n",
    "plt.show()"
   ]
  },
  {
   "cell_type": "code",
   "execution_count": null,
   "id": "218f8732",
   "metadata": {},
   "outputs": [],
   "source": [
    "minutes_out_per_pt"
   ]
  },
  {
   "cell_type": "code",
   "execution_count": null,
   "id": "96a9070c",
   "metadata": {},
   "outputs": [],
   "source": [
    "# correlate that with time to MAPopt calculation (the longer it takes to calculate, the longer they REMAIN outside limits???)\n",
    "# there is a wild outlier where it takes more than 60_000 min to compute time so we will remove\n",
    "# merge time out and minutes_out_per_patient\n",
    "tmp = minutes_out_per_pt.reset_index()\n",
    "tmp['index'] = tmp['index'].str.removeprefix('in_out_')\n",
    "tmp = tmp.set_index('index', drop=True)\n",
    "tmp = tmp.rename(columns={tmp.columns[0] : \"time_out\"})\n",
    "reg_data = pd.merge(tmp, elapsed_times_idx, left_index=True, right_index=True, how='inner').rename(columns={\"time\" : \"time_to_calc\"})\n",
    "filtered = reg_data[reg_data['time_to_calc'] < 60_000]"
   ]
  },
  {
   "cell_type": "code",
   "execution_count": null,
   "id": "25cddfe2",
   "metadata": {},
   "outputs": [],
   "source": [
    "x, y = filtered[\"time_to_calc\"], filtered[\"time_out\"]\n",
    "r, p = pearsonr(x, y)"
   ]
  },
  {
   "cell_type": "code",
   "execution_count": null,
   "id": "426d44c0",
   "metadata": {},
   "outputs": [],
   "source": [
    "# plot correlation\n",
    "fig, ax = plt.subplots(figsize=(12,6))\n",
    "fig.tight_layout(pad=0)\n",
    "sns.regplot(x = x, y =  y, scatter_kws={'alpha':0.6})\n",
    "ax.set_title(f\"Calc to Time Outside\\n({timevpercent.shape[0]} files, 189 patients)\")\n",
    "ax.set_xlabel('Time to Limits Calculation (s)')\n",
    "ax.set_ylabel(\"Time Outside Autoregulation (s)\")\n",
    "# ax.set_ylim(7.5, 11)\n",
    "# ax.set_xticks(np.arange(0, 1, 0.1), minor=True)\n",
    "\n",
    "# mean_value = pd.Series(percent_time).mean()\n",
    "# ax.axvline(x=mean_value * 100, color='red', linestyle='--', label=f'Mean: {mean_value * 100:.0f}%')\n",
    "# ax.legend()\n",
    "\n",
    "# med_value = pd.Series(percent_time).median()\n",
    "# ax.axvline(x=med_value * 100, color='green', linestyle='--', label=f'Median: {med_value * 100:.0f}%')\n",
    "# ax.legend()\n",
    "plt.text(0.05, 0.95, f\"r = {r:.2f}\", transform=plt.gca().transAxes, fontsize=12)\n",
    "\n",
    "# img_name = f\"in_out_percent_distribution.png\"\n",
    "# plt.savefig(os.path.join(img_dir, img_name), bbox_inches='tight')\n",
    "plt.show()"
   ]
  },
  {
   "cell_type": "markdown",
   "id": "c65486b8",
   "metadata": {},
   "source": [
    "### Segmentation"
   ]
  },
  {
   "cell_type": "markdown",
   "id": "1c02188e",
   "metadata": {},
   "source": [
    "#### Summary Statistics"
   ]
  },
  {
   "cell_type": "code",
   "execution_count": null,
   "id": "dcaa8068",
   "metadata": {},
   "outputs": [],
   "source": [
    "def get_start_time(g, full_timestamps):\n",
    "    g_ts = g.index\n",
    "    t_1 = full_timestamps.get_loc(g_ts[0])\n",
    "    if t_1 > 0:\n",
    "        return full_timestamps[t_1 - 1]\n",
    "    else:\n",
    "        return full_timestamps[t_1] - (60 * 1e6)"
   ]
  },
  {
   "cell_type": "code",
   "execution_count": null,
   "id": "fcdf0363",
   "metadata": {},
   "outputs": [],
   "source": [
    "# now consider continuous segments, plot their average duration, median duration per patient\n",
    "# correlate that with time to MAPopt calculation (the longer it takes to calculate, the more difficult they are to get out of disruption???)\n",
    "\n",
    "# loop through each patient's in and out and get the segments\n",
    "out_time = {}\n",
    "mode = 'mean'\n",
    "with h5py.File(global_path, \"r\") as f:\n",
    "    for pt in f:\n",
    "        if f[f\"{pt}/processed/in_out_{mode}\"].attrs[\"no_label_overlap\"]:\n",
    "            continue\n",
    "        out_df = ~(pd.Series(f[f\"{pt}/processed/in_out_{mode}/in_out\"][...], name = \"out?\").astype(bool))\n",
    "        timestamp = pd.Series(f[f\"{pt}/processed/in_out_{mode}/label_timestamp\"][...], name = \"timestamp\")\n",
    "        combined = pd.concat([out_df, timestamp], axis=1)\n",
    "        combined = combined.set_index('timestamp', drop=True)\n",
    "\n",
    "        # consider that some of these will be N/A, print them\n",
    "        # print(\"NAs:\", combined[\"out?\"].isna().sum())\n",
    "\n",
    "        signal = combined['out?']\n",
    "        change = signal.ne(signal.shift()).cumsum()\n",
    "        true_groups = (\n",
    "            combined.groupby(change)\n",
    "            .filter(lambda g: g['out?'].iloc[0]) # keep only True outs\n",
    "            .groupby(change)\n",
    "        )\n",
    "        intervals = true_groups.apply(\n",
    "            lambda g: pd.Series({\n",
    "                'start': pd.to_datetime(get_start_time(g, combined.index), unit='us'),\n",
    "                'end': pd.to_datetime(g.index[-1], unit='us'),\n",
    "                'duration': g.index[-1] - get_start_time(g, combined.index)\n",
    "            })\n",
    "        )\n",
    "\n",
    "        out_time[pt] = intervals\n",
    "\n"
   ]
  },
  {
   "cell_type": "code",
   "execution_count": null,
   "id": "4b34e407",
   "metadata": {},
   "outputs": [],
   "source": [
    "combined_df = pd.DataFrame([(pt, val) for pt, vals in out_time.items() for val in vals['duration']], columns = ['ptid', 'duration'])\n",
    "combined_df"
   ]
  },
  {
   "cell_type": "code",
   "execution_count": null,
   "id": "08590f0b",
   "metadata": {},
   "outputs": [],
   "source": [
    "combined_df.describe()"
   ]
  },
  {
   "cell_type": "code",
   "execution_count": null,
   "id": "9890b1ce",
   "metadata": {},
   "outputs": [],
   "source": [
    "# violin plots\n",
    "combined_df_min = combined_df.assign(duration=combined_df['duration'] / (1e6*60))\n",
    "filtered = combined_df_min[(combined_df_min['duration'] < 20)*(combined_df_min['duration'] > 1)]\n",
    "with plt.rc_context({'xtick.bottom': False}):\n",
    "        fig, (ax1, ax2) = plt.subplots(nrows=2, ncols=1, figsize=(20,14), layout='constrained')\n",
    "        sns.boxplot(data = combined_df_min, x='ptid', y='duration', ax=ax1, dodge=True, fliersize=0)\n",
    "        sns.boxplot(data = filtered, x='ptid', y='duration', ax=ax2, dodge=True, fliersize=0)\n",
    "\n",
    "        ax1.set_ylabel('Duration (minutes)')\n",
    "        ax2.set_ylabel('Duration (minutes)')\n",
    "        ax1.set_xlabel('')\n",
    "        ax2.set_xlabel('Recordings')\n",
    "        ax1.set_ylim(0, 500)\n",
    "        ax1.xaxis.set_ticklabels([])\n",
    "        ax2.xaxis.set_ticklabels([])\n",
    "\n",
    "        fig.suptitle('Boxplots of Outside Autoregulation Segments Durations')\n",
    "        ax1.set_title(f\"All Recordings (n = {combined_df_min.shape[0]} segments over {combined_df_min['ptid'].unique().shape[0]} patients)\")\n",
    "        ax2.set_title(f\"Recordings with length between 2 and 20 minutes\\n(n = {filtered.shape[0]} segments over {filtered['ptid'].unique().shape[0]} patients)\")\n",
    "\n",
    "        img_name = f\"out_seg_dur_per_patient.png\"\n",
    "        plt.savefig(os.path.join(img_dir, img_name), bbox_inches='tight')\n",
    "        plt.show()"
   ]
  },
  {
   "cell_type": "code",
   "execution_count": null,
   "id": "151f36fa",
   "metadata": {},
   "outputs": [],
   "source": [
    "# can use groupby\n",
    "with h5py.File(global_path, \"r\") as f:\n",
    "        summary_df = combined_df.groupby('ptid').apply(\n",
    "            lambda x: pd.Series({\n",
    "                'num_seg': x['duration'].shape[0],\n",
    "                'mean': x['duration'].mean(),\n",
    "                'median': x['duration'].median(),\n",
    "                'stddev': x['duration'].std(),\n",
    "                'max': x['duration'].max(),\n",
    "                'min': x['duration'].min(),\n",
    "                'freq_perhr': (x['duration'].shape[0] / float(f[f\"{x.name}/raw\"].attrs['duration'][0].removesuffix(' seconds'))) * 60 * 60\n",
    "            }), include_groups=False\n",
    "        )\n",
    "summary_df"
   ]
  },
  {
   "cell_type": "code",
   "execution_count": null,
   "id": "fab150a9",
   "metadata": {},
   "outputs": [],
   "source": [
    "# add % time in out and total length of recording to summary df and time to MAPopt calc\n",
    "with h5py.File(global_path, \"r\") as f:\n",
    "    summary_df[\"total_recording_s\"] = summary_df.index.map(\n",
    "        lambda x: (int(f[f\"{x}/raw\"].attrs['dataEndTimeUnix'][0]) - int(f[f\"{x}/raw\"].attrs['dataStartTimeUnix'][0]))\n",
    "    )\n",
    "summary_df[\"percent_out\"] = timevpercent[\"out_percent\"]\n",
    "summary_df['to_first_MAPopt_s'] = elapsed_times_idx\n",
    "summary_df\n"
   ]
  },
  {
   "cell_type": "code",
   "execution_count": null,
   "id": "5c5f1e8e",
   "metadata": {},
   "outputs": [],
   "source": [
    "summary_df.describe().T"
   ]
  },
  {
   "cell_type": "code",
   "execution_count": null,
   "id": "8116cb9e",
   "metadata": {},
   "outputs": [],
   "source": [
    "summary_df = summary_df[summary_df['to_first_MAPopt_s'] < 300_000]\n",
    "summary_df = summary_df[summary_df['total_recording_s'] < 7_000_000]\n"
   ]
  },
  {
   "cell_type": "code",
   "execution_count": null,
   "id": "a1556bc3",
   "metadata": {},
   "outputs": [],
   "source": [
    "summary_df.describe().T"
   ]
  },
  {
   "cell_type": "code",
   "execution_count": null,
   "id": "b125a1ee",
   "metadata": {},
   "outputs": [],
   "source": [
    "summary_df_min = summary_df.assign(\n",
    "    **summary_df[['mean', 'median', 'stddev', 'max', 'min']].transform(lambda x: x / (1e6*60))\n",
    ")\n",
    "summary_df_min = (\n",
    "    summary_df_min.drop(columns=['to_first_MAPopt_s', 'total_recording_s'])\n",
    "    .assign(\n",
    "        **summary_df[['to_first_MAPopt_s', 'total_recording_s']]\n",
    "          .transform(lambda x: x / 60)\n",
    "          .rename(columns=lambda c: re.sub(r'_s$', '_min', c))\n",
    "    )\n",
    ")\n",
    "summary_df_min"
   ]
  },
  {
   "cell_type": "code",
   "execution_count": null,
   "id": "ec021ce2",
   "metadata": {},
   "outputs": [],
   "source": [
    "# number of rows/cols for subplots\n",
    "nrows = int(np.sqrt(len(summary_df_min.columns)))\n",
    "ncols = len(summary_df_min.columns) // nrows + (len(summary_df_min.columns) % nrows) % nrows\n",
    "\n",
    "fig, axes = plt.subplots(nrows=nrows, ncols=ncols, layout='constrained', figsize=(8*ncols, 6*nrows))\n",
    "\n",
    "for i, stat in enumerate(summary_df_min.columns):\n",
    "    ax = axes[i//ncols, i%ncols]\n",
    "    sns.violinplot(\n",
    "        data=summary_df_min[stat],\n",
    "        ax=ax,\n",
    "        inner=\"box\",\n",
    "        cut=0,\n",
    "    )\n",
    "    ax.set_title(f\"{stat.capitalize()}\")\n",
    "    ax.tick_params(axis=\"x\", rotation=90)\n",
    "    ax.set_xlabel(\"\")\n",
    "    ax.set_ylabel(\"\")\n",
    "\n",
    "    mean_value = summary_df_min[stat].mean()\n",
    "    ax.axhline(y=mean_value, color='red', linestyle='--', label=f'Mean: {mean_value:.2f}')\n",
    "    ax.legend()\n",
    "\n",
    "# hide any unused subplots\n",
    "for i, a in enumerate(axes.flat):\n",
    "    if i > len(summary_df_min.columns) - 1:\n",
    "        a.set_axis_off()\n",
    "\n",
    "fig.suptitle(f\"Violin plots of summary statistics of duration per window (min)\")\n",
    "\n",
    "img_name = \"segments_summary_stats.png\"\n",
    "plt.savefig(os.path.join(img_dir, img_name))\n",
    "plt.show()"
   ]
  },
  {
   "cell_type": "code",
   "execution_count": null,
   "id": "516714e3",
   "metadata": {},
   "outputs": [],
   "source": [
    "# then min-max scale all of these\n",
    "from sklearn.preprocessing import MinMaxScaler, PowerTransformer\n",
    "scaler = MinMaxScaler()\n",
    "scaler_box = PowerTransformer(method='box-cox')\n",
    "scaled_values = scaler.fit_transform(summary_df)\n",
    "summary_df_scaled = pd.DataFrame(scaled_values, columns=summary_df.columns)\n",
    "summary_df_scaled.describe().T\n",
    "# then do correlation plot for all of these"
   ]
  },
  {
   "cell_type": "code",
   "execution_count": null,
   "id": "04fabb6b",
   "metadata": {},
   "outputs": [],
   "source": [
    "cols = summary_df_scaled.columns\n",
    "corr = summary_df_scaled.corr()\n",
    "pvals = pd.DataFrame(np.ones_like(corr), columns=cols, index=cols)\n",
    "\n",
    "\n",
    "for i in cols:\n",
    "    for j in cols:\n",
    "        r, p = pearsonr(summary_df_scaled[i], summary_df_scaled[j])\n",
    "        pvals.loc[i, j] = p\n",
    "corr"
   ]
  },
  {
   "cell_type": "code",
   "execution_count": null,
   "id": "f5571b7c",
   "metadata": {},
   "outputs": [],
   "source": [
    "# correlation matrix\n",
    "with sns.axes_style(\"white\"):\n",
    "    annot = corr.round(2).astype(str) + \"\\n(p=\" + pvals.round(3).astype(str) + \")\"\n",
    "    mask = (pvals > 0.05) | (pvals.isna())\n",
    "\n",
    "    plt.figure(figsize=(14, 12))\n",
    "    sns.heatmap(corr, mask=mask, annot=annot, cmap=\"coolwarm\", vmin=-1, vmax=1, square=True, cbar=False, fmt=\"\", cbar_kws={\"label\": \"Pearson r\"}, annot_kws={\"size\": 12})\n",
    "    plt.title(\"Correlation Matrix of Summary Stats\")\n",
    "    plt.tight_layout()\n",
    "    img_name = \"heatmap.png\"\n",
    "    plt.savefig(os.path.join(img_dir, img_name))\n",
    "    plt.show()"
   ]
  },
  {
   "cell_type": "code",
   "execution_count": null,
   "id": "52b1ad77",
   "metadata": {},
   "outputs": [],
   "source": [
    "# fig = plt.figure(figsize=(8, 6))\n",
    "dict_to_show = {'x': summary_df_scaled.columns.drop([\"min\", \"total_recording_s\"]), 'y': ['num_seg', 'freq_perhr', 'percent_out', 'to_first_MAPopt_s']}\n",
    "sns.pairplot(summary_df_scaled, \n",
    "    diag_kind='hist', \n",
    "    corner=True, \n",
    "    dropna=True)\n",
    "plt.suptitle(\"Pairwise Relationships Between Summary Stats\", y=1.02)\n",
    "img_name = \"pairplot.png\"\n",
    "plt.savefig(os.path.join(img_dir, img_name))\n",
    "plt.show()"
   ]
  },
  {
   "cell_type": "markdown",
   "id": "e48e3ce9",
   "metadata": {},
   "source": [
    "#### Clustering"
   ]
  },
  {
   "cell_type": "code",
   "execution_count": null,
   "id": "91910714",
   "metadata": {},
   "outputs": [],
   "source": [
    "# need all windows\n",
    "# need to pad them (dataset: ptid, out?, n tokens of padded window)\n",
    "# do UMAP on them\n",
    "# plot while coloring by in or out"
   ]
  },
  {
   "cell_type": "code",
   "execution_count": null,
   "id": "ffdd91a7",
   "metadata": {},
   "outputs": [],
   "source": [
    "# TODO: UMAPs?????\n",
    "# TODO: train/test split"
   ]
  },
  {
   "cell_type": "markdown",
   "id": "c2a14548",
   "metadata": {},
   "source": []
  },
  {
   "cell_type": "code",
   "execution_count": null,
   "id": "6d35eb15",
   "metadata": {},
   "outputs": [],
   "source": [
    "plt.close()\n"
   ]
  },
  {
   "cell_type": "code",
   "execution_count": null,
   "id": "2b95faeb",
   "metadata": {},
   "outputs": [],
   "source": []
  }
 ],
 "metadata": {
  "kernelspec": {
   "display_name": "Python 3",
   "language": "python",
   "name": "python3"
  },
  "language_info": {
   "codemirror_mode": {
    "name": "ipython",
    "version": 3
   },
   "file_extension": ".py",
   "mimetype": "text/x-python",
   "name": "python",
   "nbconvert_exporter": "python",
   "pygments_lexer": "ipython3",
   "version": "3.10.18"
  }
 },
 "nbformat": 4,
 "nbformat_minor": 5
}
