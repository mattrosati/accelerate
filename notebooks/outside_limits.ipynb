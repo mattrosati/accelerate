{
 "cells": [
  {
   "cell_type": "markdown",
   "id": "f1571a50",
   "metadata": {},
   "source": [
    "## Limits of Autoregulation - Summary Statistics\n",
    "\n",
    "In this notebook we look at the characteristics of the physiologic data when patients move from inside to outside the limits of autoregulation."
   ]
  },
  {
   "cell_type": "markdown",
   "id": "b42fd7eb",
   "metadata": {},
   "source": [
    "#### Useful Imports and Preliminaries"
   ]
  },
  {
   "cell_type": "code",
   "execution_count": null,
   "id": "4ffe5941",
   "metadata": {},
   "outputs": [],
   "source": [
    "import os\n",
    "import sys\n",
    "sys.path.append(\"..\")  # add project root\n",
    "\n",
    "import h5py\n",
    "\n",
    "import numpy as np\n",
    "import matplotlib.pyplot as plt\n",
    "import pandas as pd\n",
    "import seaborn as sns\n",
    "\n",
    "from tqdm import tqdm\n",
    "\n",
    "from src.data_utils import *\n",
    "from src.constants import *\n",
    "\n",
    "# pending useful sklearn imports\n",
    "from scipy.stats import pearsonr"
   ]
  },
  {
   "cell_type": "code",
   "execution_count": null,
   "id": "ca1de434",
   "metadata": {},
   "outputs": [],
   "source": [
    "pd.options.display.float_format = '{:10,.2f}'.format"
   ]
  },
  {
   "cell_type": "code",
   "execution_count": null,
   "id": "241d281f",
   "metadata": {},
   "outputs": [],
   "source": [
    "np.random.seed(420)"
   ]
  },
  {
   "cell_type": "code",
   "execution_count": null,
   "id": "b6292b01",
   "metadata": {},
   "outputs": [],
   "source": [
    "sns.set_theme(context=\"talk\")"
   ]
  },
  {
   "cell_type": "code",
   "execution_count": null,
   "id": "708d2029",
   "metadata": {},
   "outputs": [],
   "source": [
    "# path constants\n",
    "data_dir = \"/home/mr2238/project_pi_np442/mr2238/accelerate/data\"\n",
    "img_dir = \"/home/mr2238/project_pi_np442/mr2238/accelerate/imgs/in_out\"\n",
    "global_path = \"/home/mr2238/project_pi_np442/mr2238/accelerate/data/processed/all_data.hdf5\"\n",
    "labels_path = os.path.join(data_dir, \"labels\")\n",
    "raw_data_path = os.path.join(data_dir, \"raw_data\")"
   ]
  },
  {
   "cell_type": "code",
   "execution_count": null,
   "id": "99d82a98",
   "metadata": {},
   "outputs": [],
   "source": [
    "# check img directory exists, if not make it\n",
    "os.makedirs(img_dir, exist_ok=True)"
   ]
  },
  {
   "cell_type": "code",
   "execution_count": null,
   "id": "9e0e25f1",
   "metadata": {},
   "outputs": [],
   "source": [
    "# list files\n",
    "h5py_files = [f for f in os.listdir(raw_data_path) if f.endswith(\".icmh5\")]\n",
    "print(f\"Number of h5py files: {len(h5py_files)}\")\n",
    "print(f\"Example file: {h5py_files[0]}\")"
   ]
  },
  {
   "cell_type": "markdown",
   "id": "cf5ae6de",
   "metadata": {},
   "source": [
    "### In and Out Statistics"
   ]
  },
  {
   "cell_type": "markdown",
   "id": "ecf98a97",
   "metadata": {},
   "source": [
    "#### Define Limits"
   ]
  },
  {
   "cell_type": "markdown",
   "id": "8ed7f55a",
   "metadata": {},
   "source": [
    "Here we explore how much a given patient is within their autoregulatory limits, to get a sense of how to distribute this.\n",
    "1) Definition: Patient is outside limits of autoregulation if at a given time *t*, the mean ABP value over the minute prior to time *t* is outside the limits calculated at *t*.\n",
    "2) What do we want?\n",
    "    - Distribution of % time outside limits: Done\n",
    "    - Duration of time outside limits: per patient, distribution, median, average\n",
    "    - Number of times outside limits per patient\n",
    "    - Correlation between time elapsed and likelihood of being outside of limits: t vs. at time t, what fraction of patients are outside limits?\n",
    "    - time spent outside autoregulation vs time to autoregulation calc"
   ]
  },
  {
   "cell_type": "markdown",
   "id": "9ff29d7d",
   "metadata": {},
   "source": [
    "#### Percent Time In and Out"
   ]
  },
  {
   "cell_type": "code",
   "execution_count": null,
   "id": "91bcf469",
   "metadata": {},
   "outputs": [],
   "source": [
    "true_false = {}\n",
    "ins = []\n",
    "mode = 'mean'\n",
    "with h5py.File(global_path, \"r\") as f:\n",
    "    for pt in f:\n",
    "        if f[f\"{pt}/processed/in_out_{mode}\"].attrs[\"no_label_overlap\"]:\n",
    "            continue\n",
    "        in_out_df = pd.Series(f[f\"{pt}/processed/in_out_{mode}/in_out\"][...])\n",
    "        idx_window = pd.DataFrame(f[f\"{pt}/processed/in_out_{mode}/window_idx\"][...])\n",
    "\n",
    "        # to actually get percentage of time spent outside autoregulation, we need to get actual window length, we can't weigh all the windows equally\n",
    "        len_window = idx_window.iloc[:, 1] - idx_window.iloc[:, 0]\n",
    "        in_out = (in_out_df * len_window).sum() / len_window.sum()\n",
    "        if len_window.sum() == 0:\n",
    "            print(pt)\n",
    "            print(idx_window)\n",
    "            print(in_out_df)\n",
    "\n",
    "        true_false[pt] = [in_out]\n",
    "        ins.append(in_out_df)\n"
   ]
  },
  {
   "cell_type": "code",
   "execution_count": null,
   "id": "f4db2f56",
   "metadata": {},
   "outputs": [],
   "source": [
    "true_false_df = pd.DataFrame(true_false).transpose()\n",
    "bool_in_out_df = pd.concat(ins)\n",
    "bool_in_out_df.describe()"
   ]
  },
  {
   "cell_type": "code",
   "execution_count": null,
   "id": "c3908f92",
   "metadata": {},
   "outputs": [],
   "source": [
    "# calculate percent time in/out per patient\n",
    "percent_time = 1 - np.array(true_false_df).squeeze()\n",
    "print(percent_time.shape)"
   ]
  },
  {
   "cell_type": "code",
   "execution_count": null,
   "id": "89089979",
   "metadata": {},
   "outputs": [],
   "source": [
    "# plot distribtion\n",
    "with plt.rc_context({'xtick.bottom': True, 'ytick.left': True}):\n",
    "    fig, ax = plt.subplots(figsize=(12,6))\n",
    "    fig.tight_layout(pad=2)\n",
    "    sns.histplot(percent_time * 100, ax=ax, stat=\"probability\", edgecolor=(0, 0, 0, 0.5), alpha=0.5)\n",
    "    # sns.kdeplot(\n",
    "    #     percent_time / percent_time.sum(),\n",
    "    #     ax=ax,\n",
    "    #     bw_adjust=1,\n",
    "    #     linewidth=2,\n",
    "    #     cut=0,\n",
    "    # )\n",
    "    ax.set_title(f\"Percentage of time spent outside autoregulatory limits ({len(percent_time)} files, 189 patients)\")\n",
    "    ax.set_xlabel('Percentage of Time Outside Limits')\n",
    "    ax.set_ylabel(\"Density\")\n",
    "    ax.set_ylim(0, 0.25)\n",
    "    ax.set_xticks(np.arange(0, 1, 0.1), minor=True)\n",
    "\n",
    "    mean_value = pd.Series(percent_time).mean()\n",
    "    ax.axvline(x=mean_value * 100, color='red', linestyle='--', label=f'Mean: {mean_value * 100:.0f}%')\n",
    "    ax.legend()\n",
    "\n",
    "    med_value = pd.Series(percent_time).median()\n",
    "    ax.axvline(x=med_value * 100, color='green', linestyle='--', label=f'Median: {med_value * 100:.0f}%')\n",
    "    ax.legend()\n",
    "\n",
    "    img_name = f\"in_out_percent_distribution.png\"\n",
    "    plt.savefig(os.path.join(img_dir, img_name), bbox_inches='tight')\n",
    "    plt.show()"
   ]
  },
  {
   "cell_type": "markdown",
   "id": "fb125de3",
   "metadata": {},
   "source": [
    "Now, we can correlate this with the time required to calculate MAP opt."
   ]
  },
  {
   "cell_type": "code",
   "execution_count": null,
   "id": "be6380aa",
   "metadata": {},
   "outputs": [],
   "source": [
    "# load df, find seconds elapsed to calculate opt MAP\n",
    "with h5py.File(global_path, \"r\") as f:\n",
    "    calc = TARGETS\n",
    "    e = [[find_time_elapsed(str(pt).split(\"_\")[0], calc, labels_path), str(pt)] for pt in f if not f[f\"{pt}/processed/in_out_{mode}\"].attrs[\"no_label_overlap\"] ]\n",
    "    elapsed_times= pd.concat([pd.Series([t[0] for t in e]), pd.Series([str(t[1]) for t in e])], axis=1)\n",
    "    elapsed_times_idx = elapsed_times.set_index(1).dropna()\n",
    "    print(elapsed_times_idx.describe())"
   ]
  },
  {
   "cell_type": "code",
   "execution_count": null,
   "id": "f2f3aaf6",
   "metadata": {},
   "outputs": [],
   "source": [
    "# merge dfs\n",
    "timevpercent = pd.merge(true_false_df, elapsed_times_idx, left_index=True, right_index=True)\n",
    "timevpercent = timevpercent[timevpercent[\"0_y\"] < 60000] # there is a single outlier that takes almost 80 hours to compute"
   ]
  },
  {
   "cell_type": "code",
   "execution_count": null,
   "id": "ac6fc9db",
   "metadata": {},
   "outputs": [],
   "source": [
    "# Example data\n",
    "r, p = pearsonr(timevpercent[\"0_x\"], np.log(timevpercent[\"0_y\"]))"
   ]
  },
  {
   "cell_type": "code",
   "execution_count": null,
   "id": "93a45f85",
   "metadata": {},
   "outputs": [],
   "source": [
    "# plot correlation\n",
    "with plt.rc_context({'xtick.bottom': True, 'ytick.left': True}):\n",
    "    fig, ax = plt.subplots(figsize=(12,6))\n",
    "    fig.tight_layout(pad=0)\n",
    "    sns.regplot(x = timevpercent[\"0_x\"]*100, y = np.log(timevpercent[\"0_y\"]/(60*60)), scatter_kws={'alpha':0.6})\n",
    "    ax.set_title(f\"Percentage of Time Outside Autoregulation vs. Time to First MAPopt calculation\\n({timevpercent.shape[0]} files, 189 patients)\")\n",
    "    ax.set_xlabel('Percentage of Time Outside Limits')\n",
    "    ax.set_ylabel(\"Log Time to MAPopt calculation \\n(log hr)\")\n",
    "    # ax.set_ylim(7.5, 11)\n",
    "    # ax.set_xticks(np.arange(0, 1, 0.1), minor=True)\n",
    "\n",
    "    # mean_value = pd.Series(percent_time).mean()\n",
    "    # ax.axvline(x=mean_value * 100, color='red', linestyle='--', label=f'Mean: {mean_value * 100:.0f}%')\n",
    "    # ax.legend()\n",
    "\n",
    "    # med_value = pd.Series(percent_time).median()\n",
    "    # ax.axvline(x=med_value * 100, color='green', linestyle='--', label=f'Median: {med_value * 100:.0f}%')\n",
    "    # ax.legend()\n",
    "    plt.text(0.05, 0.95, f\"r = {r:.2f}\", transform=plt.gca().transAxes, fontsize=12)\n",
    "\n",
    "    # img_name = f\"in_out_percent_distribution.png\"\n",
    "    # plt.savefig(os.path.join(img_dir, img_name), bbox_inches='tight')\n",
    "    plt.show()"
   ]
  },
  {
   "cell_type": "markdown",
   "id": "fba8003d",
   "metadata": {},
   "source": [
    "Notice there is no correlation. Most likely due to the fact that time to MAPopt calc depends on a time period for which there are no autoregulatory limits."
   ]
  },
  {
   "cell_type": "markdown",
   "id": "eba09fa4",
   "metadata": {},
   "source": [
    "We can also see how the likelihood of being outside the limits is correlated with time elapsed from start of recording."
   ]
  },
  {
   "cell_type": "code",
   "execution_count": null,
   "id": "23cc5004",
   "metadata": {},
   "outputs": [],
   "source": [
    "# get in_out for each patient, add n/a if time index is not represented\n",
    "# concat and plot\n",
    "frames = []\n",
    "with h5py.File(global_path, \"r\") as f:\n",
    "    for pt in tqdm(f.keys()):\n",
    "        processed_data_path = f\"{pt}/processed/in_out_{mode}/\"\n",
    "        if f[processed_data_path].attrs[\"no_label_overlap\"]:\n",
    "            continue\n",
    "        label_datetimes = f[processed_data_path + \"label_timestamp\"][...]\n",
    "        zero_idx = label_datetimes - (f[f\"{pt}/raw\"].attrs[\"dataStartTimeUnix\"]).astype(np.int64) * 1e6\n",
    "        in_out_df = f[f\"{pt}/processed/in_out_{mode}/in_out\"][...]\n",
    "\n",
    "        df = pd.DataFrame({\n",
    "            \"timestamp\": zero_idx.astype(np.int64),\n",
    "            f\"in_out_{pt}\": in_out_df\n",
    "        })\n",
    "        frames.append(df)\n",
    "\n",
    "continuous_time_grid = pd.concat(frames, axis=0)\n",
    "print(continuous_time_grid.shape)\n",
    "grid_groups = continuous_time_grid.groupby(\"timestamp\", as_index=False)\n",
    "continuous_time_grid = grid_groups.first()\n",
    "        "
   ]
  },
  {
   "cell_type": "code",
   "execution_count": null,
   "id": "910775c2",
   "metadata": {},
   "outputs": [],
   "source": [
    "continuous_time_grid['timestamp']"
   ]
  },
  {
   "cell_type": "code",
   "execution_count": null,
   "id": "10311965",
   "metadata": {},
   "outputs": [],
   "source": [
    "to_graph = pd.DataFrame(continuous_time_grid['timestamp'])\n",
    "to_graph['sum'] = continuous_time_grid.drop('timestamp', axis = 1).sum(axis=1)"
   ]
  },
  {
   "cell_type": "code",
   "execution_count": null,
   "id": "9947c3b5",
   "metadata": {},
   "outputs": [],
   "source": [
    "to_graph['sum']"
   ]
  },
  {
   "cell_type": "code",
   "execution_count": null,
   "id": "557215c3",
   "metadata": {},
   "outputs": [],
   "source": [
    "# plot correlation, not working yet.\n",
    "with plt.rc_context({'xtick.bottom': True, 'ytick.left': True}):\n",
    "    fig, ax = plt.subplots(figsize=(12,6))\n",
    "    fig.tight_layout(pad=0)\n",
    "    sns.histplot(x = to_graph['timestamp'], y = to_graph['sum'], stat=\"probability\")\n",
    "    ax.set_title(f\"Percentage of Time Outside Autoregulation vs. Time to First MAPopt calculation\\n({timevpercent.shape[0]} files, 189 patients)\")\n",
    "    ax.set_xlabel('Percentage of Time Outside Limits')\n",
    "    ax.set_ylabel(\"Log Time to MAPopt calculation \\n(log hr)\")\n",
    "    # ax.set_ylim(7.5, 11)\n",
    "    # ax.set_xticks(np.arange(0, 1, 0.1), minor=True)\n",
    "\n",
    "    # mean_value = pd.Series(percent_time).mean()\n",
    "    # ax.axvline(x=mean_value * 100, color='red', linestyle='--', label=f'Mean: {mean_value * 100:.0f}%')\n",
    "    # ax.legend()\n",
    "\n",
    "    # med_value = pd.Series(percent_time).median()\n",
    "    # ax.axvline(x=med_value * 100, color='green', linestyle='--', label=f'Median: {med_value * 100:.0f}%')\n",
    "    # ax.legend()\n",
    "    # plt.text(0.05, 0.95, f\"r = {r:.2f}\", transform=plt.gca().transAxes, fontsize=12)\n",
    "\n",
    "    # img_name = f\"in_out_percent_distribution.png\"\n",
    "    # plt.savefig(os.path.join(img_dir, img_name), bbox_inches='tight')\n",
    "    plt.show()"
   ]
  },
  {
   "cell_type": "code",
   "execution_count": null,
   "id": "2674eda0",
   "metadata": {},
   "outputs": [],
   "source": [
    "zero_idx"
   ]
  },
  {
   "cell_type": "markdown",
   "id": "cdbc563e",
   "metadata": {},
   "source": [
    "### Amount of time spent outside of limits\n",
    "\n",
    "We can do this in one minute intervals, basically develop a function that makes a list of segments of interrupted outside status with their lengths."
   ]
  },
  {
   "cell_type": "code",
   "execution_count": null,
   "id": "57313897",
   "metadata": {},
   "outputs": [],
   "source": []
  },
  {
   "cell_type": "markdown",
   "id": "c2a14548",
   "metadata": {},
   "source": []
  }
 ],
 "metadata": {
  "kernelspec": {
   "display_name": "Python 3",
   "language": "python",
   "name": "python3"
  },
  "language_info": {
   "codemirror_mode": {
    "name": "ipython",
    "version": 3
   },
   "file_extension": ".py",
   "mimetype": "text/x-python",
   "name": "python",
   "nbconvert_exporter": "python",
   "pygments_lexer": "ipython3",
   "version": "3.10.18"
  }
 },
 "nbformat": 4,
 "nbformat_minor": 5
}
