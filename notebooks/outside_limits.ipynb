{
 "cells": [
  {
   "cell_type": "markdown",
   "id": "f1571a50",
   "metadata": {},
   "source": [
    "## Limits of Autoregulation - Summary Statistics\n",
    "\n",
    "In this notebook we look at the characteristics of the physiologic data when patients move from inside to outside the limits of autoregulation."
   ]
  },
  {
   "cell_type": "markdown",
   "id": "b42fd7eb",
   "metadata": {},
   "source": [
    "#### Useful Imports and Preliminaries"
   ]
  },
  {
   "cell_type": "code",
   "execution_count": null,
   "id": "4ffe5941",
   "metadata": {},
   "outputs": [],
   "source": [
    "import os\n",
    "import sys\n",
    "sys.path.append(\"..\")  # add project root\n",
    "\n",
    "import h5py\n",
    "\n",
    "import numpy as np\n",
    "import matplotlib.pyplot as plt\n",
    "import pandas as pd\n",
    "import seaborn as sns\n",
    "\n",
    "from tqdm import tqdm\n",
    "\n",
    "from src.data_utils import *\n",
    "from src.constants import *\n",
    "\n",
    "# pending useful sklearn imports"
   ]
  },
  {
   "cell_type": "code",
   "execution_count": null,
   "id": "ca1de434",
   "metadata": {},
   "outputs": [],
   "source": [
    "pd.options.display.float_format = '{:10,.2f}'.format"
   ]
  },
  {
   "cell_type": "code",
   "execution_count": null,
   "id": "241d281f",
   "metadata": {},
   "outputs": [],
   "source": [
    "np.random.seed(420)"
   ]
  },
  {
   "cell_type": "code",
   "execution_count": null,
   "id": "b6292b01",
   "metadata": {},
   "outputs": [],
   "source": [
    "sns.set_theme(context=\"talk\")"
   ]
  },
  {
   "cell_type": "code",
   "execution_count": null,
   "id": "708d2029",
   "metadata": {},
   "outputs": [],
   "source": [
    "# path constants\n",
    "data_dir = \"/home/mr2238/project_pi_np442/mr2238/accelerate/data\"\n",
    "img_dir = \"/home/mr2238/project_pi_np442/mr2238/accelerate/imgs/overview\"\n",
    "global_path = \"/home/mr2238/project_pi_np442/mr2238/accelerate/data/processed/all_data.hdf5\"\n",
    "labels_path = os.path.join(data_dir, \"labels\")\n",
    "raw_data_path = os.path.join(data_dir, \"raw_data\")"
   ]
  },
  {
   "cell_type": "code",
   "execution_count": null,
   "id": "9e0e25f1",
   "metadata": {},
   "outputs": [],
   "source": [
    "# list files\n",
    "h5py_files = [f for f in os.listdir(raw_data_path) if f.endswith(\".icmh5\")]\n",
    "print(f\"Number of h5py files: {len(h5py_files)}\")\n",
    "print(f\"Example file: {h5py_files[0]}\")"
   ]
  },
  {
   "cell_type": "markdown",
   "id": "cf5ae6de",
   "metadata": {},
   "source": [
    "### In and Out Statistics"
   ]
  },
  {
   "cell_type": "markdown",
   "id": "ecf98a97",
   "metadata": {},
   "source": [
    "#### Define Limits"
   ]
  },
  {
   "cell_type": "markdown",
   "id": "8ed7f55a",
   "metadata": {},
   "source": [
    "Here we explore how much a given patient is within their autoregulatory limits, to get a sense of how to distribute this.\n",
    "1) Definition: Patient is outside limits of autoregulation if at a given time *t*, the mean ABP value over the minute prior to time *t* is outside the limits calculated at *t*.\n",
    "2) What do we want?\n",
    "    - Distribution of % time outside limits\n",
    "    - Duration of time outside limits: per patient, distribution, median, average\n",
    "    - Number of times outside limits per patient\n",
    "    - Correlation between time elapsed and likelihood of being outside of limits: t vs. at time t, what fraction of patients are outside limits?\n",
    "    - time spent outside autoregulation vs time to autoregulation calc"
   ]
  },
  {
   "cell_type": "markdown",
   "id": "9ff29d7d",
   "metadata": {},
   "source": [
    "#### Count Time In and Out"
   ]
  },
  {
   "cell_type": "code",
   "execution_count": null,
   "id": "91bcf469",
   "metadata": {},
   "outputs": [],
   "source": [
    "true_false = []\n",
    "ins = []\n",
    "mode = 'mean'\n",
    "with h5py.File(global_path, \"r\") as f:\n",
    "    for pt in f:\n",
    "        in_out_df = pd.DataFrame(f[f\"{pt}/processed/in_out_{mode}/in_out\"][...])\n",
    "        in_out = in_out_df.sum() / in_out_df.shape[0]\n",
    "\n",
    "        true_false.append(in_out)\n",
    "        ins.append(in_out_df)\n"
   ]
  },
  {
   "cell_type": "code",
   "execution_count": null,
   "id": "1c76f438",
   "metadata": {},
   "outputs": [],
   "source": [
    "# quick check that the ins bool arrays make sense\n",
    "bool_in_out = pd.concat(ins).reset_index(drop=True)\n",
    "bool_in_out.describe()"
   ]
  },
  {
   "cell_type": "code",
   "execution_count": null,
   "id": "c3908f92",
   "metadata": {},
   "outputs": [],
   "source": [
    "# calculate percent time in/out per patient\n",
    "percent_time = 1 - np.array(true_false).squeeze()\n",
    "print(percent_time.shape)"
   ]
  },
  {
   "cell_type": "code",
   "execution_count": null,
   "id": "319fc25a",
   "metadata": {},
   "outputs": [],
   "source": [
    "# to actually get percentage of time spent outside autoregulation, we need to get "
   ]
  },
  {
   "cell_type": "code",
   "execution_count": null,
   "id": "89089979",
   "metadata": {},
   "outputs": [],
   "source": [
    "# plot distribtion\n",
    "with plt.rc_context({'xtick.bottom': True, 'ytick.left': True}):\n",
    "    fig, ax = plt.subplots(figsize=(12,6))\n",
    "    fig.tight_layout(pad=2)\n",
    "    sns.histplot(percent_time * 100, ax=ax, stat=\"probability\", edgecolor=(0, 0, 0, 0.5), alpha=0.5)\n",
    "    # sns.kdeplot(\n",
    "    #     percent_time / percent_time.sum(),\n",
    "    #     ax=ax,\n",
    "    #     bw_adjust=1,\n",
    "    #     linewidth=2,\n",
    "    #     cut=0,\n",
    "    # )\n",
    "    ax.set_title(f\"Percentage of time spent outside autoregulatory limits (192 files, 189 patients)\")\n",
    "    ax.set_xlabel('Percentage of Time Outside Limits')\n",
    "    ax.set_ylabel(\"Density\")\n",
    "    ax.set_ylim(0, 0.25)\n",
    "    ax.set_xticks(np.arange(0, 1, 0.1), minor=True)\n",
    "\n",
    "    mean_value = pd.Series(percent_time).mean()\n",
    "    ax.axvline(x=mean_value * 100, color='red', linestyle='--', label=f'Mean: {mean_value * 100:.1f}%')\n",
    "    ax.legend()\n",
    "\n",
    "    med_value = pd.Series(percent_time).median()\n",
    "    ax.axvline(x=med_value * 100, color='green', linestyle='--', label=f'Median: {med_value * 100:.1f}%')\n",
    "    ax.legend()\n",
    "\n",
    "    img_name = f\"in_out_percent_distribution.png\"\n",
    "    plt.savefig(os.path.join(img_dir, img_name), bbox_inches='tight')\n",
    "    plt.show()"
   ]
  },
  {
   "cell_type": "code",
   "execution_count": null,
   "id": "23cc5004",
   "metadata": {},
   "outputs": [],
   "source": []
  }
 ],
 "metadata": {
  "kernelspec": {
   "display_name": "Python 3",
   "language": "python",
   "name": "python3"
  },
  "language_info": {
   "codemirror_mode": {
    "name": "ipython",
    "version": 3
   },
   "file_extension": ".py",
   "mimetype": "text/x-python",
   "name": "python",
   "nbconvert_exporter": "python",
   "pygments_lexer": "ipython3",
   "version": "3.10.18"
  }
 },
 "nbformat": 4,
 "nbformat_minor": 5
}
