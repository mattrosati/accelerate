{
 "cells": [
  {
   "cell_type": "markdown",
   "id": "6fa19512",
   "metadata": {},
   "source": [
    "## Comparing Distributed ways of processing hdf5 files\n",
    "\n",
    "It would be extremely helpful if I could create a dataframe instead of looping through every file each time. The issue however is about memory, as these files would be very hard to hold all in memory. In this notebook, I will explore ways of doing this in a distributed, lazy manner. The real question is whether ``dask`` or ``polars`` would be better."
   ]
  },
  {
   "cell_type": "markdown",
   "id": "ada5241d",
   "metadata": {},
   "source": [
    "#### Useful imports"
   ]
  },
  {
   "cell_type": "code",
   "execution_count": 1,
   "id": "113f0bd4",
   "metadata": {},
   "outputs": [],
   "source": [
    "import os\n",
    "import sys\n",
    "import warnings\n",
    "sys.path.append(\"..\")  # add project root\n",
    "\n",
    "\n",
    "import h5py\n",
    "\n",
    "import numpy as np\n",
    "import matplotlib.pyplot as plt\n",
    "import pandas as pd\n",
    "import seaborn as sns\n",
    "\n",
    "from tqdm import tqdm\n",
    "\n",
    "from src.data_utils import *\n",
    "from src.constants import *"
   ]
  },
  {
   "cell_type": "code",
   "execution_count": 2,
   "id": "af4f2886",
   "metadata": {},
   "outputs": [],
   "source": [
    "import tables\n",
    "import dask\n",
    "import dask.array as da\n",
    "import polars as pol"
   ]
  },
  {
   "cell_type": "code",
   "execution_count": 3,
   "id": "05e3a19f",
   "metadata": {},
   "outputs": [],
   "source": [
    "# Filter out the NaturalNameWarning. Raised when attribute cannot be dot indexed because of how it is named.\n",
    "warnings.filterwarnings('ignore', category=tables.NaturalNameWarning)"
   ]
  },
  {
   "cell_type": "code",
   "execution_count": 4,
   "id": "e82ddcba",
   "metadata": {},
   "outputs": [],
   "source": [
    "pd.options.display.float_format = '{:10,.2f}'.format"
   ]
  },
  {
   "cell_type": "code",
   "execution_count": 5,
   "id": "3629d1f6",
   "metadata": {},
   "outputs": [],
   "source": [
    "np.random.seed(420)"
   ]
  },
  {
   "cell_type": "code",
   "execution_count": 6,
   "id": "95d3ed60",
   "metadata": {},
   "outputs": [],
   "source": [
    "sns.set_theme(context=\"talk\")"
   ]
  },
  {
   "cell_type": "code",
   "execution_count": 7,
   "id": "6b567eed",
   "metadata": {},
   "outputs": [],
   "source": [
    "# path constants\n",
    "data_dir = \"/home/mr2238/project_pi_np442/mr2238/accelerate/data\"\n",
    "img_dir = \"/home/mr2238/project_pi_np442/mr2238/accelerate/imgs/overview\"\n",
    "labels_path = os.path.join(data_dir, \"labels\")\n",
    "raw_data_path = os.path.join(data_dir, \"raw_data\")"
   ]
  },
  {
   "cell_type": "code",
   "execution_count": 8,
   "id": "38abf750",
   "metadata": {},
   "outputs": [],
   "source": [
    "global_data_path = \"/home/mr2238/project_pi_np442/mr2238/accelerate/data/processed/all_data.hdf5\""
   ]
  },
  {
   "cell_type": "code",
   "execution_count": 9,
   "id": "388828bc",
   "metadata": {},
   "outputs": [
    {
     "name": "stdout",
     "output_type": "stream",
     "text": [
      "Number of h5py files: 215\n",
      "Example file: 1002.icmh5\n"
     ]
    }
   ],
   "source": [
    "# list files\n",
    "h5py_files = [f for f in os.listdir(raw_data_path) if f.endswith(\".icmh5\")]\n",
    "print(f\"Number of h5py files: {len(h5py_files)}\")\n",
    "print(f\"Example file: {h5py_files[0]}\")"
   ]
  },
  {
   "cell_type": "code",
   "execution_count": 10,
   "id": "3abc40e3",
   "metadata": {},
   "outputs": [
    {
     "name": "stdout",
     "output_type": "stream",
     "text": [
      "/home/mr2238/project_pi_np442/mr2238/accelerate/data/raw_data/1002.icmh5\n"
     ]
    }
   ],
   "source": [
    "example_file = os.path.join(raw_data_path, h5py_files[0])\n",
    "print(example_file)"
   ]
  },
  {
   "cell_type": "markdown",
   "id": "b6053e62",
   "metadata": {},
   "source": [
    "#### Opening HDF files through ``tables``"
   ]
  },
  {
   "cell_type": "markdown",
   "id": "b13118d9",
   "metadata": {},
   "source": [
    "I tried this and it was super annoying to deal with .icmh5 files (would cause kernel crashes). However I realized I do not need it for ``dask``."
   ]
  },
  {
   "cell_type": "code",
   "execution_count": 11,
   "id": "c0fea5d1",
   "metadata": {},
   "outputs": [],
   "source": [
    "# will open with h5py instead\n",
    "global_f = h5py.File(global_data_path, mode=\"r\")"
   ]
  },
  {
   "cell_type": "markdown",
   "id": "78a37e68",
   "metadata": {},
   "source": [
    "#### Loading Large Dataframe through ``dask``"
   ]
  },
  {
   "cell_type": "code",
   "execution_count": 12,
   "id": "8ad8e5ca",
   "metadata": {},
   "outputs": [
    {
     "name": "stderr",
     "output_type": "stream",
     "text": [
      "2025-10-10 13:45:44,374 - tornado.application - ERROR - Uncaught exception GET /status/ws (10.18.9.118)\n",
      "HTTPServerRequest(protocol='http', host='127.0.0.1:8787', method='GET', uri='/status/ws', version='HTTP/1.1', remote_ip='10.18.9.118')\n",
      "Traceback (most recent call last):\n",
      "  File \"/home/mr2238/project_pi_np442/mr2238/conda_envs/cppopt-dl/lib/python3.10/site-packages/tornado/websocket.py\", line 965, in _accept_connection\n",
      "    open_result = handler.open(*handler.open_args, **handler.open_kwargs)\n",
      "  File \"/home/mr2238/project_pi_np442/mr2238/conda_envs/cppopt-dl/lib/python3.10/site-packages/tornado/web.py\", line 3375, in wrapper\n",
      "    return method(self, *args, **kwargs)\n",
      "  File \"/home/mr2238/project_pi_np442/mr2238/conda_envs/cppopt-dl/lib/python3.10/site-packages/bokeh/server/views/ws.py\", line 149, in open\n",
      "    raise ProtocolError(\"Token is expired. Configure the app with a larger value for --session-token-expiration if necessary\")\n",
      "bokeh.protocol.exceptions.ProtocolError: Token is expired. Configure the app with a larger value for --session-token-expiration if necessary\n",
      "2025-10-10 13:46:00,498 - tornado.application - ERROR - Uncaught exception GET /status/ws (10.18.9.118)\n",
      "HTTPServerRequest(protocol='http', host='127.0.0.1:8787', method='GET', uri='/status/ws', version='HTTP/1.1', remote_ip='10.18.9.118')\n",
      "Traceback (most recent call last):\n",
      "  File \"/home/mr2238/project_pi_np442/mr2238/conda_envs/cppopt-dl/lib/python3.10/site-packages/tornado/websocket.py\", line 965, in _accept_connection\n",
      "    open_result = handler.open(*handler.open_args, **handler.open_kwargs)\n",
      "  File \"/home/mr2238/project_pi_np442/mr2238/conda_envs/cppopt-dl/lib/python3.10/site-packages/tornado/web.py\", line 3375, in wrapper\n",
      "    return method(self, *args, **kwargs)\n",
      "  File \"/home/mr2238/project_pi_np442/mr2238/conda_envs/cppopt-dl/lib/python3.10/site-packages/bokeh/server/views/ws.py\", line 149, in open\n",
      "    raise ProtocolError(\"Token is expired. Configure the app with a larger value for --session-token-expiration if necessary\")\n",
      "bokeh.protocol.exceptions.ProtocolError: Token is expired. Configure the app with a larger value for --session-token-expiration if necessary\n"
     ]
    }
   ],
   "source": [
    "from dask.distributed import LocalCluster\n",
    "cluster = LocalCluster()          # Fully-featured local Dask cluster\n",
    "client = cluster.get_client()"
   ]
  },
  {
   "cell_type": "code",
   "execution_count": 13,
   "id": "e2295b6c",
   "metadata": {},
   "outputs": [
    {
     "data": {
      "text/html": [
       "<div>\n",
       "    <div style=\"width: 24px; height: 24px; background-color: #e1e1e1; border: 3px solid #9D9D9D; border-radius: 5px; position: absolute;\"> </div>\n",
       "    <div style=\"margin-left: 48px;\">\n",
       "        <h3 style=\"margin-bottom: 0px;\">Client</h3>\n",
       "        <p style=\"color: #9D9D9D; margin-bottom: 0px;\">Client-edf97b9a-a600-11f0-bcc7-6c92cf9d3710</p>\n",
       "        <table style=\"width: 100%; text-align: left;\">\n",
       "\n",
       "        <tr>\n",
       "        \n",
       "            <td style=\"text-align: left;\"><strong>Connection method:</strong> Cluster object</td>\n",
       "            <td style=\"text-align: left;\"><strong>Cluster type:</strong> distributed.LocalCluster</td>\n",
       "        \n",
       "        </tr>\n",
       "\n",
       "        \n",
       "            <tr>\n",
       "                <td style=\"text-align: left;\">\n",
       "                    <strong>Dashboard: </strong> <a href=\"http://127.0.0.1:8787/status\" target=\"_blank\">http://127.0.0.1:8787/status</a>\n",
       "                </td>\n",
       "                <td style=\"text-align: left;\"></td>\n",
       "            </tr>\n",
       "        \n",
       "\n",
       "        </table>\n",
       "\n",
       "        \n",
       "\n",
       "        \n",
       "            <details>\n",
       "            <summary style=\"margin-bottom: 20px;\"><h3 style=\"display: inline;\">Cluster Info</h3></summary>\n",
       "            <div class=\"jp-RenderedHTMLCommon jp-RenderedHTML jp-mod-trusted jp-OutputArea-output\">\n",
       "    <div style=\"width: 24px; height: 24px; background-color: #e1e1e1; border: 3px solid #9D9D9D; border-radius: 5px; position: absolute;\">\n",
       "    </div>\n",
       "    <div style=\"margin-left: 48px;\">\n",
       "        <h3 style=\"margin-bottom: 0px; margin-top: 0px;\">LocalCluster</h3>\n",
       "        <p style=\"color: #9D9D9D; margin-bottom: 0px;\">4bb99021</p>\n",
       "        <table style=\"width: 100%; text-align: left;\">\n",
       "            <tr>\n",
       "                <td style=\"text-align: left;\">\n",
       "                    <strong>Dashboard:</strong> <a href=\"http://127.0.0.1:8787/status\" target=\"_blank\">http://127.0.0.1:8787/status</a>\n",
       "                </td>\n",
       "                <td style=\"text-align: left;\">\n",
       "                    <strong>Workers:</strong> 3\n",
       "                </td>\n",
       "            </tr>\n",
       "            <tr>\n",
       "                <td style=\"text-align: left;\">\n",
       "                    <strong>Total threads:</strong> 3\n",
       "                </td>\n",
       "                <td style=\"text-align: left;\">\n",
       "                    <strong>Total memory:</strong> 16.00 GiB\n",
       "                </td>\n",
       "            </tr>\n",
       "            \n",
       "            <tr>\n",
       "    <td style=\"text-align: left;\"><strong>Status:</strong> running</td>\n",
       "    <td style=\"text-align: left;\"><strong>Using processes:</strong> True</td>\n",
       "</tr>\n",
       "\n",
       "            \n",
       "        </table>\n",
       "\n",
       "        <details>\n",
       "            <summary style=\"margin-bottom: 20px;\">\n",
       "                <h3 style=\"display: inline;\">Scheduler Info</h3>\n",
       "            </summary>\n",
       "\n",
       "            <div style=\"\">\n",
       "    <div>\n",
       "        <div style=\"width: 24px; height: 24px; background-color: #FFF7E5; border: 3px solid #FF6132; border-radius: 5px; position: absolute;\"> </div>\n",
       "        <div style=\"margin-left: 48px;\">\n",
       "            <h3 style=\"margin-bottom: 0px;\">Scheduler</h3>\n",
       "            <p style=\"color: #9D9D9D; margin-bottom: 0px;\">Scheduler-6269a03b-8e57-4f74-a100-514f45e67459</p>\n",
       "            <table style=\"width: 100%; text-align: left;\">\n",
       "                <tr>\n",
       "                    <td style=\"text-align: left;\">\n",
       "                        <strong>Comm:</strong> tcp://127.0.0.1:37557\n",
       "                    </td>\n",
       "                    <td style=\"text-align: left;\">\n",
       "                        <strong>Workers:</strong> 0 \n",
       "                    </td>\n",
       "                </tr>\n",
       "                <tr>\n",
       "                    <td style=\"text-align: left;\">\n",
       "                        <strong>Dashboard:</strong> <a href=\"http://127.0.0.1:8787/status\" target=\"_blank\">http://127.0.0.1:8787/status</a>\n",
       "                    </td>\n",
       "                    <td style=\"text-align: left;\">\n",
       "                        <strong>Total threads:</strong> 0\n",
       "                    </td>\n",
       "                </tr>\n",
       "                <tr>\n",
       "                    <td style=\"text-align: left;\">\n",
       "                        <strong>Started:</strong> Just now\n",
       "                    </td>\n",
       "                    <td style=\"text-align: left;\">\n",
       "                        <strong>Total memory:</strong> 0 B\n",
       "                    </td>\n",
       "                </tr>\n",
       "            </table>\n",
       "        </div>\n",
       "    </div>\n",
       "\n",
       "    <details style=\"margin-left: 48px;\">\n",
       "        <summary style=\"margin-bottom: 20px;\">\n",
       "            <h3 style=\"display: inline;\">Workers</h3>\n",
       "        </summary>\n",
       "\n",
       "        \n",
       "        <div style=\"margin-bottom: 20px;\">\n",
       "            <div style=\"width: 24px; height: 24px; background-color: #DBF5FF; border: 3px solid #4CC9FF; border-radius: 5px; position: absolute;\"> </div>\n",
       "            <div style=\"margin-left: 48px;\">\n",
       "            <details>\n",
       "                <summary>\n",
       "                    <h4 style=\"margin-bottom: 0px; display: inline;\">Worker: 0</h4>\n",
       "                </summary>\n",
       "                <table style=\"width: 100%; text-align: left;\">\n",
       "                    <tr>\n",
       "                        <td style=\"text-align: left;\">\n",
       "                            <strong>Comm: </strong> tcp://127.0.0.1:36213\n",
       "                        </td>\n",
       "                        <td style=\"text-align: left;\">\n",
       "                            <strong>Total threads: </strong> 1\n",
       "                        </td>\n",
       "                    </tr>\n",
       "                    <tr>\n",
       "                        <td style=\"text-align: left;\">\n",
       "                            <strong>Dashboard: </strong> <a href=\"http://127.0.0.1:43797/status\" target=\"_blank\">http://127.0.0.1:43797/status</a>\n",
       "                        </td>\n",
       "                        <td style=\"text-align: left;\">\n",
       "                            <strong>Memory: </strong> 5.33 GiB\n",
       "                        </td>\n",
       "                    </tr>\n",
       "                    <tr>\n",
       "                        <td style=\"text-align: left;\">\n",
       "                            <strong>Nanny: </strong> tcp://127.0.0.1:44971\n",
       "                        </td>\n",
       "                        <td style=\"text-align: left;\"></td>\n",
       "                    </tr>\n",
       "                    <tr>\n",
       "                        <td colspan=\"2\" style=\"text-align: left;\">\n",
       "                            <strong>Local directory: </strong> /tmp/dask-scratch-space/worker-aqjd1xtm\n",
       "                        </td>\n",
       "                    </tr>\n",
       "\n",
       "                    \n",
       "\n",
       "                    \n",
       "\n",
       "                </table>\n",
       "            </details>\n",
       "            </div>\n",
       "        </div>\n",
       "        \n",
       "        <div style=\"margin-bottom: 20px;\">\n",
       "            <div style=\"width: 24px; height: 24px; background-color: #DBF5FF; border: 3px solid #4CC9FF; border-radius: 5px; position: absolute;\"> </div>\n",
       "            <div style=\"margin-left: 48px;\">\n",
       "            <details>\n",
       "                <summary>\n",
       "                    <h4 style=\"margin-bottom: 0px; display: inline;\">Worker: 1</h4>\n",
       "                </summary>\n",
       "                <table style=\"width: 100%; text-align: left;\">\n",
       "                    <tr>\n",
       "                        <td style=\"text-align: left;\">\n",
       "                            <strong>Comm: </strong> tcp://127.0.0.1:45771\n",
       "                        </td>\n",
       "                        <td style=\"text-align: left;\">\n",
       "                            <strong>Total threads: </strong> 1\n",
       "                        </td>\n",
       "                    </tr>\n",
       "                    <tr>\n",
       "                        <td style=\"text-align: left;\">\n",
       "                            <strong>Dashboard: </strong> <a href=\"http://127.0.0.1:34039/status\" target=\"_blank\">http://127.0.0.1:34039/status</a>\n",
       "                        </td>\n",
       "                        <td style=\"text-align: left;\">\n",
       "                            <strong>Memory: </strong> 5.33 GiB\n",
       "                        </td>\n",
       "                    </tr>\n",
       "                    <tr>\n",
       "                        <td style=\"text-align: left;\">\n",
       "                            <strong>Nanny: </strong> tcp://127.0.0.1:34843\n",
       "                        </td>\n",
       "                        <td style=\"text-align: left;\"></td>\n",
       "                    </tr>\n",
       "                    <tr>\n",
       "                        <td colspan=\"2\" style=\"text-align: left;\">\n",
       "                            <strong>Local directory: </strong> /tmp/dask-scratch-space/worker-drgh3nn_\n",
       "                        </td>\n",
       "                    </tr>\n",
       "\n",
       "                    \n",
       "\n",
       "                    \n",
       "\n",
       "                </table>\n",
       "            </details>\n",
       "            </div>\n",
       "        </div>\n",
       "        \n",
       "        <div style=\"margin-bottom: 20px;\">\n",
       "            <div style=\"width: 24px; height: 24px; background-color: #DBF5FF; border: 3px solid #4CC9FF; border-radius: 5px; position: absolute;\"> </div>\n",
       "            <div style=\"margin-left: 48px;\">\n",
       "            <details>\n",
       "                <summary>\n",
       "                    <h4 style=\"margin-bottom: 0px; display: inline;\">Worker: 2</h4>\n",
       "                </summary>\n",
       "                <table style=\"width: 100%; text-align: left;\">\n",
       "                    <tr>\n",
       "                        <td style=\"text-align: left;\">\n",
       "                            <strong>Comm: </strong> tcp://127.0.0.1:37249\n",
       "                        </td>\n",
       "                        <td style=\"text-align: left;\">\n",
       "                            <strong>Total threads: </strong> 1\n",
       "                        </td>\n",
       "                    </tr>\n",
       "                    <tr>\n",
       "                        <td style=\"text-align: left;\">\n",
       "                            <strong>Dashboard: </strong> <a href=\"http://127.0.0.1:35291/status\" target=\"_blank\">http://127.0.0.1:35291/status</a>\n",
       "                        </td>\n",
       "                        <td style=\"text-align: left;\">\n",
       "                            <strong>Memory: </strong> 5.33 GiB\n",
       "                        </td>\n",
       "                    </tr>\n",
       "                    <tr>\n",
       "                        <td style=\"text-align: left;\">\n",
       "                            <strong>Nanny: </strong> tcp://127.0.0.1:33517\n",
       "                        </td>\n",
       "                        <td style=\"text-align: left;\"></td>\n",
       "                    </tr>\n",
       "                    <tr>\n",
       "                        <td colspan=\"2\" style=\"text-align: left;\">\n",
       "                            <strong>Local directory: </strong> /tmp/dask-scratch-space/worker-qrz4v41f\n",
       "                        </td>\n",
       "                    </tr>\n",
       "\n",
       "                    \n",
       "\n",
       "                    \n",
       "\n",
       "                </table>\n",
       "            </details>\n",
       "            </div>\n",
       "        </div>\n",
       "        \n",
       "\n",
       "    </details>\n",
       "</div>\n",
       "\n",
       "        </details>\n",
       "    </div>\n",
       "</div>\n",
       "            </details>\n",
       "        \n",
       "\n",
       "    </div>\n",
       "</div>"
      ],
      "text/plain": [
       "<Client: 'tcp://127.0.0.1:37557' processes=3 threads=3, memory=16.00 GiB>"
      ]
     },
     "execution_count": 13,
     "metadata": {},
     "output_type": "execute_result"
    }
   ],
   "source": [
    "client"
   ]
  },
  {
   "cell_type": "code",
   "execution_count": 14,
   "id": "d02958f5",
   "metadata": {},
   "outputs": [
    {
     "data": {
      "text/plain": [
       "<HDF5 group \"/1002\" (3 members)>"
      ]
     },
     "execution_count": 14,
     "metadata": {},
     "output_type": "execute_result"
    }
   ],
   "source": [
    "global_f['1002']"
   ]
  },
  {
   "cell_type": "code",
   "execution_count": null,
   "id": "ed092880",
   "metadata": {},
   "outputs": [],
   "source": [
    "# see if I can make a dataframe of all abp values\n",
    "abp = da.concatenate([da.from_array(global_f[f\"{pt}/raw/waves/abp\"], chunks=(1e12, )) for pt in global_f.keys()])"
   ]
  },
  {
   "cell_type": "code",
   "execution_count": null,
   "id": "b939e0cf",
   "metadata": {},
   "outputs": [],
   "source": [
    "abp"
   ]
  },
  {
   "cell_type": "code",
   "execution_count": null,
   "id": "0f8b55b3",
   "metadata": {},
   "outputs": [],
   "source": [
    "mean = da.mean(abp)\n",
    "mean.compute()"
   ]
  },
  {
   "cell_type": "code",
   "execution_count": 15,
   "id": "f987b6b6",
   "metadata": {},
   "outputs": [],
   "source": [
    "all_vars = ['hr', 'rso2l', 'rso2r', 'abp', 'spo2', 'icp', 'deoxhg_r',\n",
    "       'sthg_index_r', 'sthg_index_l', 'oxhg_l', 'deoxhg_l', 'oxhg_r',\n",
    "       'scthg_l', 'scthg_r']"
   ]
  },
  {
   "cell_type": "code",
   "execution_count": null,
   "id": "ed304229",
   "metadata": {},
   "outputs": [
    {
     "name": "stderr",
     "output_type": "stream",
     "text": [
      "Exception ignored in: <function WeakSet.__init__.<locals>._remove at 0x1531f0ed01f0>\n",
      "Traceback (most recent call last):\n",
      "  File \"/home/mr2238/project_pi_np442/mr2238/conda_envs/cppopt-dl/lib/python3.10/_weakrefset.py\", line 39, in _remove\n",
      "    def _remove(item, selfref=ref(self)):\n",
      "KeyboardInterrupt: \n",
      "Process Dask Worker process (from Nanny):\n",
      "2025-10-10 13:45:29,357 - distributed.nanny - ERROR - Worker process died unexpectedly\n",
      "Traceback (most recent call last):\n",
      "  File \"/home/mr2238/project_pi_np442/mr2238/conda_envs/cppopt-dl/lib/python3.10/multiprocessing/process.py\", line 314, in _bootstrap\n",
      "    self.run()\n",
      "  File \"/home/mr2238/project_pi_np442/mr2238/conda_envs/cppopt-dl/lib/python3.10/multiprocessing/process.py\", line 108, in run\n",
      "    self._target(*self._args, **self._kwargs)\n",
      "  File \"/home/mr2238/project_pi_np442/mr2238/conda_envs/cppopt-dl/lib/python3.10/site-packages/distributed/process.py\", line 202, in _run\n",
      "    target(*args, **kwargs)\n",
      "  File \"/home/mr2238/project_pi_np442/mr2238/conda_envs/cppopt-dl/lib/python3.10/site-packages/distributed/nanny.py\", line 1023, in _run\n",
      "    asyncio_run(run(), loop_factory=get_loop_factory())\n",
      "  File \"/home/mr2238/project_pi_np442/mr2238/conda_envs/cppopt-dl/lib/python3.10/site-packages/distributed/compatibility.py\", line 239, in asyncio_run\n",
      "    _cancel_all_tasks(loop)\n",
      "  File \"/home/mr2238/project_pi_np442/mr2238/conda_envs/cppopt-dl/lib/python3.10/site-packages/distributed/compatibility.py\", line 255, in _cancel_all_tasks\n",
      "    loop.run_until_complete(asyncio.gather(*to_cancel, return_exceptions=True))\n",
      "  File \"/home/mr2238/project_pi_np442/mr2238/conda_envs/cppopt-dl/lib/python3.10/asyncio/base_events.py\", line 636, in run_until_complete\n",
      "    self.run_forever()\n",
      "  File \"/home/mr2238/project_pi_np442/mr2238/conda_envs/cppopt-dl/lib/python3.10/asyncio/base_events.py\", line 603, in run_forever\n",
      "    self._run_once()\n",
      "  File \"/home/mr2238/project_pi_np442/mr2238/conda_envs/cppopt-dl/lib/python3.10/asyncio/base_events.py\", line 1909, in _run_once\n",
      "    handle._run()\n",
      "  File \"/home/mr2238/project_pi_np442/mr2238/conda_envs/cppopt-dl/lib/python3.10/asyncio/events.py\", line 80, in _run\n",
      "    self._context.run(self._callback, *self._args)\n",
      "  File \"/home/mr2238/project_pi_np442/mr2238/conda_envs/cppopt-dl/lib/python3.10/site-packages/tornado/ioloop.py\", line 707, in <lambda>\n",
      "    lambda f: self._run_callback(functools.partial(callback, f))\n",
      "  File \"/home/mr2238/project_pi_np442/mr2238/conda_envs/cppopt-dl/lib/python3.10/site-packages/tornado/ioloop.py\", line 758, in _run_callback\n",
      "    ret = callback()\n",
      "  File \"/home/mr2238/project_pi_np442/mr2238/conda_envs/cppopt-dl/lib/python3.10/site-packages/tornado/ioloop.py\", line 782, in _discard_future_result\n",
      "    future.result()\n",
      "  File \"/home/mr2238/project_pi_np442/mr2238/conda_envs/cppopt-dl/lib/python3.10/site-packages/distributed/worker.py\", line 221, in wrapper\n",
      "    return await method(self, *args, **kwargs)  # type: ignore\n",
      "  File \"/home/mr2238/project_pi_np442/mr2238/conda_envs/cppopt-dl/lib/python3.10/site-packages/distributed/worker.py\", line 1317, in handle_scheduler\n",
      "    await self.handle_stream(comm)\n",
      "  File \"/home/mr2238/project_pi_np442/mr2238/conda_envs/cppopt-dl/lib/python3.10/site-packages/distributed/core.py\", line 889, in handle_stream\n",
      "    msgs = await comm.read()\n",
      "  File \"/home/mr2238/project_pi_np442/mr2238/conda_envs/cppopt-dl/lib/python3.10/site-packages/distributed/comm/tcp.py\", line 248, in read\n",
      "    msg = await from_frames(\n",
      "  File \"/home/mr2238/project_pi_np442/mr2238/conda_envs/cppopt-dl/lib/python3.10/site-packages/distributed/comm/utils.py\", line 78, in from_frames\n",
      "    res = _from_frames()\n",
      "  File \"/home/mr2238/project_pi_np442/mr2238/conda_envs/cppopt-dl/lib/python3.10/site-packages/distributed/comm/utils.py\", line 61, in _from_frames\n",
      "    return protocol.loads(\n",
      "  File \"/home/mr2238/project_pi_np442/mr2238/conda_envs/cppopt-dl/lib/python3.10/site-packages/distributed/protocol/core.py\", line 175, in loads\n",
      "    return msgpack.loads(\n",
      "  File \"msgpack/_unpacker.pyx\", line 194, in msgpack._cmsgpack.unpackb\n",
      "  File \"/home/mr2238/project_pi_np442/mr2238/conda_envs/cppopt-dl/lib/python3.10/site-packages/distributed/protocol/core.py\", line 172, in _decode_default\n",
      "    return pickle.loads(sub_header[\"pickled-obj\"], buffers=sub_frames)\n",
      "  File \"/home/mr2238/project_pi_np442/mr2238/conda_envs/cppopt-dl/lib/python3.10/site-packages/distributed/protocol/pickle.py\", line 95, in loads\n",
      "    return pickle.loads(x)\n",
      "  File \"/home/mr2238/project_pi_np442/mr2238/conda_envs/cppopt-dl/lib/python3.10/site-packages/distributed/protocol/h5py.py\", line 31, in deserialize_h5py_dataset\n",
      "    file = deserialize_h5py_file(header, frames)\n",
      "  File \"/home/mr2238/project_pi_np442/mr2238/conda_envs/cppopt-dl/lib/python3.10/site-packages/distributed/protocol/h5py.py\", line 19, in deserialize_h5py_file\n",
      "    return h5py.File(header[\"filename\"], mode=\"r\")\n",
      "  File \"/home/mr2238/project_pi_np442/mr2238/conda_envs/cppopt-dl/lib/python3.10/site-packages/h5py/_hl/files.py\", line 552, in __init__\n",
      "    fapl = make_fapl(driver, libver, rdcc_nslots, rdcc_nbytes, rdcc_w0,\n",
      "  File \"/home/mr2238/project_pi_np442/mr2238/conda_envs/cppopt-dl/lib/python3.10/site-packages/h5py/_hl/files.py\", line 111, in make_fapl\n",
      "    def make_fapl(driver, libver, rdcc_nslots, rdcc_nbytes, rdcc_w0, locking,\n",
      "KeyboardInterrupt\n",
      "Process Dask Worker process (from Nanny):\n",
      "Traceback (most recent call last):\n",
      "  File \"/home/mr2238/project_pi_np442/mr2238/conda_envs/cppopt-dl/lib/python3.10/multiprocessing/process.py\", line 314, in _bootstrap\n",
      "    self.run()\n",
      "  File \"/home/mr2238/project_pi_np442/mr2238/conda_envs/cppopt-dl/lib/python3.10/multiprocessing/process.py\", line 108, in run\n",
      "    self._target(*self._args, **self._kwargs)\n",
      "  File \"/home/mr2238/project_pi_np442/mr2238/conda_envs/cppopt-dl/lib/python3.10/site-packages/distributed/process.py\", line 202, in _run\n",
      "    target(*args, **kwargs)\n",
      "  File \"/home/mr2238/project_pi_np442/mr2238/conda_envs/cppopt-dl/lib/python3.10/site-packages/distributed/nanny.py\", line 1023, in _run\n",
      "    asyncio_run(run(), loop_factory=get_loop_factory())\n",
      "  File \"/home/mr2238/project_pi_np442/mr2238/conda_envs/cppopt-dl/lib/python3.10/site-packages/distributed/compatibility.py\", line 236, in asyncio_run\n",
      "    return loop.run_until_complete(main)\n",
      "  File \"/home/mr2238/project_pi_np442/mr2238/conda_envs/cppopt-dl/lib/python3.10/asyncio/base_events.py\", line 636, in run_until_complete\n",
      "    self.run_forever()\n",
      "  File \"/home/mr2238/project_pi_np442/mr2238/conda_envs/cppopt-dl/lib/python3.10/asyncio/base_events.py\", line 603, in run_forever\n",
      "    self._run_once()\n",
      "  File \"/home/mr2238/project_pi_np442/mr2238/conda_envs/cppopt-dl/lib/python3.10/asyncio/base_events.py\", line 1871, in _run_once\n",
      "    event_list = self._selector.select(timeout)\n",
      "  File \"/home/mr2238/project_pi_np442/mr2238/conda_envs/cppopt-dl/lib/python3.10/selectors.py\", line 469, in select\n",
      "    fd_event_list = self._selector.poll(timeout, max_ev)\n",
      "KeyboardInterrupt\n"
     ]
    }
   ],
   "source": [
    "from tqdm import tqdm\n",
    "batch_n = 10\n",
    "for v in tqdm(all_vars):\n",
    "    if v in ['hr', 'rso2l', 'rso2r', 'spo2']:\n",
    "        key_string = f\"numerics/{v}\"\n",
    "    else:\n",
    "        key_string = f\"waves/{v}\"\n",
    "    arr_list = [da.from_array(global_f[f\"{pt}/raw/{key_string}\"]) for pt in global_f.keys() if key_string in global_f[f\"{pt}/raw\"] and not global_f[f\"{pt}/processed\"].attrs[\"broken_numeric\"]]\n",
    "    v_arr = da.concatenate(arr_list)\n",
    "    mini = da.concatenate(arr_list[:batch_n]).min().compute()\n",
    "    maxi = da.concatenate(arr_list)[:batch_n].max().compute()\n",
    "    hist, bins = da.histogram(v_arr, bins=50, range=[mini, maxi])\n",
    "    # print(hist)\n",
    "    hist.compute()"
   ]
  },
  {
   "cell_type": "code",
   "execution_count": null,
   "id": "bba4a764",
   "metadata": {},
   "outputs": [],
   "source": []
  }
 ],
 "metadata": {
  "kernelspec": {
   "display_name": "Python 3",
   "language": "python",
   "name": "python3"
  },
  "language_info": {
   "codemirror_mode": {
    "name": "ipython",
    "version": 3
   },
   "file_extension": ".py",
   "mimetype": "text/x-python",
   "name": "python",
   "nbconvert_exporter": "python",
   "pygments_lexer": "ipython3",
   "version": "3.10.18"
  }
 },
 "nbformat": 4,
 "nbformat_minor": 5
}
